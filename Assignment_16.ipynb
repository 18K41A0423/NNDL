{
  "nbformat": 4,
  "nbformat_minor": 0,
  "metadata": {
    "colab": {
      "name": "Assignment 16.ipynb",
      "provenance": []
    },
    "kernelspec": {
      "name": "python3",
      "display_name": "Python 3"
    },
    "language_info": {
      "name": "python"
    }
  },
  "cells": [
    {
      "cell_type": "markdown",
      "metadata": {
        "id": "2_Les5PNMRJc"
      },
      "source": [
        "Build a simple linear regression model using RMSprop + SGD optimizer to help 33/11KV substation electric utility to trade power effectively in an day ahead energy market by estimating load at a particular hour based on the load at one hour and one day before. Dataset : Active power load dataset."
      ]
    },
    {
      "cell_type": "markdown",
      "metadata": {
        "id": "oCUDJ_xrL7Bp"
      },
      "source": [
        "**Importing Libraries**"
      ]
    },
    {
      "cell_type": "code",
      "metadata": {
        "id": "wRcx3Y3byroy"
      },
      "source": [
        "import numpy as np\n",
        "import matplotlib.pyplot as plt\n",
        "import pandas as pd\n",
        "from sklearn.preprocessing import minmax_scale\n",
        "from sklearn.model_selection import train_test_split\n",
        "import seaborn as sns\n",
        "from scipy import stats"
      ],
      "execution_count": 38,
      "outputs": []
    },
    {
      "cell_type": "code",
      "metadata": {
        "id": "QCI_wIxCy5CU",
        "colab": {
          "base_uri": "https://localhost:8080/",
          "height": 195
        },
        "outputId": "73952e9b-d9ed-464d-cf4c-6f5bff3f93e8"
      },
      "source": [
        "data=pd.read_excel(\"/Load_Data_in_kW.xlsx\",header=None)\n",
        "data.head()"
      ],
      "execution_count": 39,
      "outputs": [
        {
          "output_type": "execute_result",
          "data": {
            "text/html": [
              "<div>\n",
              "<style scoped>\n",
              "    .dataframe tbody tr th:only-of-type {\n",
              "        vertical-align: middle;\n",
              "    }\n",
              "\n",
              "    .dataframe tbody tr th {\n",
              "        vertical-align: top;\n",
              "    }\n",
              "\n",
              "    .dataframe thead th {\n",
              "        text-align: right;\n",
              "    }\n",
              "</style>\n",
              "<table border=\"1\" class=\"dataframe\">\n",
              "  <thead>\n",
              "    <tr style=\"text-align: right;\">\n",
              "      <th></th>\n",
              "      <th>0</th>\n",
              "    </tr>\n",
              "  </thead>\n",
              "  <tbody>\n",
              "    <tr>\n",
              "      <th>0</th>\n",
              "      <td>5551.82208</td>\n",
              "    </tr>\n",
              "    <tr>\n",
              "      <th>1</th>\n",
              "      <td>4983.17184</td>\n",
              "    </tr>\n",
              "    <tr>\n",
              "      <th>2</th>\n",
              "      <td>4888.39680</td>\n",
              "    </tr>\n",
              "    <tr>\n",
              "      <th>3</th>\n",
              "      <td>5072.95872</td>\n",
              "    </tr>\n",
              "    <tr>\n",
              "      <th>4</th>\n",
              "      <td>5196.25980</td>\n",
              "    </tr>\n",
              "  </tbody>\n",
              "</table>\n",
              "</div>"
            ],
            "text/plain": [
              "            0\n",
              "0  5551.82208\n",
              "1  4983.17184\n",
              "2  4888.39680\n",
              "3  5072.95872\n",
              "4  5196.25980"
            ]
          },
          "metadata": {
            "tags": []
          },
          "execution_count": 39
        }
      ]
    },
    {
      "cell_type": "code",
      "metadata": {
        "id": "V1QrUafQy72L",
        "colab": {
          "base_uri": "https://localhost:8080/"
        },
        "outputId": "83779444-c6ac-40d9-80c0-b0a6f3efbcef"
      },
      "source": [
        "data.info()"
      ],
      "execution_count": 40,
      "outputs": [
        {
          "output_type": "stream",
          "text": [
            "<class 'pandas.core.frame.DataFrame'>\n",
            "RangeIndex: 2184 entries, 0 to 2183\n",
            "Data columns (total 1 columns):\n",
            " #   Column  Non-Null Count  Dtype  \n",
            "---  ------  --------------  -----  \n",
            " 0   0       2184 non-null   float64\n",
            "dtypes: float64(1)\n",
            "memory usage: 17.2 KB\n"
          ],
          "name": "stdout"
        }
      ]
    },
    {
      "cell_type": "markdown",
      "metadata": {
        "id": "DHCHVyovzTcy"
      },
      "source": [
        "\n",
        "**Outliers:**"
      ]
    },
    {
      "cell_type": "code",
      "metadata": {
        "id": "oKrauWcYzJ1q",
        "colab": {
          "base_uri": "https://localhost:8080/"
        },
        "outputId": "8e6b1515-8538-4bce-bc8c-1ee7d330a127"
      },
      "source": [
        "z=np.abs(stats.zscore(data))\n",
        "print(z)"
      ],
      "execution_count": 41,
      "outputs": [
        {
          "output_type": "stream",
          "text": [
            "[[0.04910416]\n",
            " [0.08229029]\n",
            " [0.08782131]\n",
            " ...\n",
            " [0.09743692]\n",
            " [0.07253822]\n",
            " [0.03181432]]\n"
          ],
          "name": "stdout"
        }
      ]
    },
    {
      "cell_type": "code",
      "metadata": {
        "id": "8eYOfRZ7zQT0",
        "colab": {
          "base_uri": "https://localhost:8080/",
          "height": 296
        },
        "outputId": "63b49201-dd1f-4054-d907-b14853f40c7a"
      },
      "source": [
        "sns.boxplot(x=data[0])"
      ],
      "execution_count": 42,
      "outputs": [
        {
          "output_type": "execute_result",
          "data": {
            "text/plain": [
              "<matplotlib.axes._subplots.AxesSubplot at 0x7f1d9a823b10>"
            ]
          },
          "metadata": {
            "tags": []
          },
          "execution_count": 42
        },
        {
          "output_type": "display_data",
          "data": {
            "image/png": "[encoded data removed]",
            "text/plain": [
              "<Figure size 432x288 with 1 Axes>"
            ]
          },
          "metadata": {
            "tags": [],
            "needs_background": "light"
          }
        }
      ]
    },
    {
      "cell_type": "code",
      "metadata": {
        "id": "jyz_AJSgzc4r",
        "colab": {
          "base_uri": "https://localhost:8080/",
          "height": 195
        },
        "outputId": "74530385-f094-4942-aea5-dc8cfdd28901"
      },
      "source": [
        "df=data\n",
        "q=df[0].quantile(0.99)\n",
        "df[df[0]<q]\n",
        "q_low=df[0].quantile(0.01)\n",
        "q_hi=df[0].quantile(0.99)\n",
        "df_filtered=df[(df[0]<q_hi)&(df[0]>q_low)]\n",
        "df_filtered.head()"
      ],
      "execution_count": 43,
      "outputs": [
        {
          "output_type": "execute_result",
          "data": {
            "text/html": [
              "<div>\n",
              "<style scoped>\n",
              "    .dataframe tbody tr th:only-of-type {\n",
              "        vertical-align: middle;\n",
              "    }\n",
              "\n",
              "    .dataframe tbody tr th {\n",
              "        vertical-align: top;\n",
              "    }\n",
              "\n",
              "    .dataframe thead th {\n",
              "        text-align: right;\n",
              "    }\n",
              "</style>\n",
              "<table border=\"1\" class=\"dataframe\">\n",
              "  <thead>\n",
              "    <tr style=\"text-align: right;\">\n",
              "      <th></th>\n",
              "      <th>0</th>\n",
              "    </tr>\n",
              "  </thead>\n",
              "  <tbody>\n",
              "    <tr>\n",
              "      <th>0</th>\n",
              "      <td>5551.82208</td>\n",
              "    </tr>\n",
              "    <tr>\n",
              "      <th>1</th>\n",
              "      <td>4983.17184</td>\n",
              "    </tr>\n",
              "    <tr>\n",
              "      <th>2</th>\n",
              "      <td>4888.39680</td>\n",
              "    </tr>\n",
              "    <tr>\n",
              "      <th>3</th>\n",
              "      <td>5072.95872</td>\n",
              "    </tr>\n",
              "    <tr>\n",
              "      <th>4</th>\n",
              "      <td>5196.25980</td>\n",
              "    </tr>\n",
              "  </tbody>\n",
              "</table>\n",
              "</div>"
            ],
            "text/plain": [
              "            0\n",
              "0  5551.82208\n",
              "1  4983.17184\n",
              "2  4888.39680\n",
              "3  5072.95872\n",
              "4  5196.25980"
            ]
          },
          "metadata": {
            "tags": []
          },
          "execution_count": 43
        }
      ]
    },
    {
      "cell_type": "code",
      "metadata": {
        "id": "NnzLrucVzqZA",
        "colab": {
          "base_uri": "https://localhost:8080/"
        },
        "outputId": "5239903c-ca14-49e3-dacb-e5b6ac1276cb"
      },
      "source": [
        "print(len(data))\n",
        "print(len(df_filtered))\n",
        "if(len(data)==len(df_filtered)):\n",
        "    print('No outliers')"
      ],
      "execution_count": 44,
      "outputs": [
        {
          "output_type": "stream",
          "text": [
            "2184\n",
            "2140\n"
          ],
          "name": "stdout"
        }
      ]
    },
    {
      "cell_type": "markdown",
      "metadata": {
        "id": "h8GGG79TzzU4"
      },
      "source": [
        "**Normalisation:**"
      ]
    },
    {
      "cell_type": "code",
      "metadata": {
        "id": "2JBmRbMFzuPo",
        "colab": {
          "base_uri": "https://localhost:8080/",
          "height": 195
        },
        "outputId": "f0906b5e-b300-497b-dd23-7d16286c58ed"
      },
      "source": [
        "data=df_filtered\n",
        "data_n=data.copy()\n",
        "data_n=(data_n-data_n.min())/(data_n.max()-data_n.min())\n",
        "data_n.head()"
      ],
      "execution_count": 45,
      "outputs": [
        {
          "output_type": "execute_result",
          "data": {
            "text/html": [
              "<div>\n",
              "<style scoped>\n",
              "    .dataframe tbody tr th:only-of-type {\n",
              "        vertical-align: middle;\n",
              "    }\n",
              "\n",
              "    .dataframe tbody tr th {\n",
              "        vertical-align: top;\n",
              "    }\n",
              "\n",
              "    .dataframe thead th {\n",
              "        text-align: right;\n",
              "    }\n",
              "</style>\n",
              "<table border=\"1\" class=\"dataframe\">\n",
              "  <thead>\n",
              "    <tr style=\"text-align: right;\">\n",
              "      <th></th>\n",
              "      <th>0</th>\n",
              "    </tr>\n",
              "  </thead>\n",
              "  <tbody>\n",
              "    <tr>\n",
              "      <th>0</th>\n",
              "      <td>0.372950</td>\n",
              "    </tr>\n",
              "    <tr>\n",
              "      <th>1</th>\n",
              "      <td>0.254941</td>\n",
              "    </tr>\n",
              "    <tr>\n",
              "      <th>2</th>\n",
              "      <td>0.235273</td>\n",
              "    </tr>\n",
              "    <tr>\n",
              "      <th>3</th>\n",
              "      <td>0.273574</td>\n",
              "    </tr>\n",
              "    <tr>\n",
              "      <th>4</th>\n",
              "      <td>0.299162</td>\n",
              "    </tr>\n",
              "  </tbody>\n",
              "</table>\n",
              "</div>"
            ],
            "text/plain": [
              "          0\n",
              "0  0.372950\n",
              "1  0.254941\n",
              "2  0.235273\n",
              "3  0.273574\n",
              "4  0.299162"
            ]
          },
          "metadata": {
            "tags": []
          },
          "execution_count": 45
        }
      ]
    },
    {
      "cell_type": "markdown",
      "metadata": {
        "id": "iOkZeh4iz96b"
      },
      "source": [
        "\n",
        "**Split Data:**"
      ]
    },
    {
      "cell_type": "code",
      "metadata": {
        "id": "tGh9c2wqz6wl"
      },
      "source": [
        "train_data,test_data=train_test_split(data_n,test_size=0.1)"
      ],
      "execution_count": 46,
      "outputs": []
    },
    {
      "cell_type": "code",
      "metadata": {
        "id": "EbB2m0V00EIa",
        "colab": {
          "base_uri": "https://localhost:8080/",
          "height": 212
        },
        "outputId": "ade02543-f729-4e4e-81c8-73bb73ce2714"
      },
      "source": [
        "print(len(train_data))\n",
        "train_data.head()"
      ],
      "execution_count": 47,
      "outputs": [
        {
          "output_type": "stream",
          "text": [
            "1926\n"
          ],
          "name": "stdout"
        },
        {
          "output_type": "execute_result",
          "data": {
            "text/html": [
              "<div>\n",
              "<style scoped>\n",
              "    .dataframe tbody tr th:only-of-type {\n",
              "        vertical-align: middle;\n",
              "    }\n",
              "\n",
              "    .dataframe tbody tr th {\n",
              "        vertical-align: top;\n",
              "    }\n",
              "\n",
              "    .dataframe thead th {\n",
              "        text-align: right;\n",
              "    }\n",
              "</style>\n",
              "<table border=\"1\" class=\"dataframe\">\n",
              "  <thead>\n",
              "    <tr style=\"text-align: right;\">\n",
              "      <th></th>\n",
              "      <th>0</th>\n",
              "    </tr>\n",
              "  </thead>\n",
              "  <tbody>\n",
              "    <tr>\n",
              "      <th>424</th>\n",
              "      <td>0.935949</td>\n",
              "    </tr>\n",
              "    <tr>\n",
              "      <th>66</th>\n",
              "      <td>0.779381</td>\n",
              "    </tr>\n",
              "    <tr>\n",
              "      <th>190</th>\n",
              "      <td>0.257012</td>\n",
              "    </tr>\n",
              "    <tr>\n",
              "      <th>1579</th>\n",
              "      <td>0.196810</td>\n",
              "    </tr>\n",
              "    <tr>\n",
              "      <th>1634</th>\n",
              "      <td>0.548087</td>\n",
              "    </tr>\n",
              "  </tbody>\n",
              "</table>\n",
              "</div>"
            ],
            "text/plain": [
              "             0\n",
              "424   0.935949\n",
              "66    0.779381\n",
              "190   0.257012\n",
              "1579  0.196810\n",
              "1634  0.548087"
            ]
          },
          "metadata": {
            "tags": []
          },
          "execution_count": 47
        }
      ]
    },
    {
      "cell_type": "code",
      "metadata": {
        "id": "yPZrUo-h0G9w"
      },
      "source": [
        "x=[]\n",
        "y=[]\n",
        "for i in range(len(train_data.iloc[:,0])-24):\n",
        "    x.append(train_data.iloc[i,0])\n",
        "    y.append(train_data.iloc[i+24,0])"
      ],
      "execution_count": 48,
      "outputs": []
    },
    {
      "cell_type": "markdown",
      "metadata": {
        "id": "VWYatRpMLHKj"
      },
      "source": [
        "\n",
        "**Train Data:**"
      ]
    },
    {
      "cell_type": "code",
      "metadata": {
        "id": "ICncCRmb0NXX",
        "colab": {
          "base_uri": "https://localhost:8080/"
        },
        "outputId": "ff3e8d20-5de8-4ab4-f819-cf5e099d7b13"
      },
      "source": [
        "m=1\n",
        "c=-1\n",
        "gama=0.9\n",
        "l=0.1      #learning rate\n",
        "epochs=100 #epochs\n",
        "em=0\n",
        "ec=0\n",
        "e=10**(-8)\n",
        "err=[]\n",
        "for i in range(epochs):\n",
        "  er=0\n",
        "  for j in range(len(x)):\n",
        "    er+=((y[j]-(m*x[j])-c))**2\n",
        "    gm=-(y[j]-m*x[j]-c)*x[j]\n",
        "    gc=-(y[j]-m*x[j]-c)\n",
        "    em=(gama*em)+(1-gama)*(gm**2)\n",
        "    ec=(gama*ec)+(1-gama)*(gc**2)\n",
        "    d_m=-((l)/(em+e)**(0.5))*(gm)\n",
        "    d_c=-((l)/(ec+e)**(0.5))*(gc)\n",
        "    m=m+d_m\n",
        "    c=c+d_c\n",
        "    er=(1/(2*len(x)))*(er)\n",
        "    err.append(er)\n",
        "print(\"The minimum value obtained at m=%.2f\"%(m),\", c=%.2f\"%(c))"
      ],
      "execution_count": 49,
      "outputs": [
        {
          "output_type": "stream",
          "text": [
            "The minimum value obtained at m=0.18 , c=0.44\n"
          ],
          "name": "stdout"
        }
      ]
    },
    {
      "cell_type": "markdown",
      "metadata": {
        "id": "Yh9shl020bHj"
      },
      "source": [
        "\n",
        "**MSE,RMSE for Training data :** "
      ]
    },
    {
      "cell_type": "code",
      "metadata": {
        "id": "8YuapzZD0qZb",
        "colab": {
          "base_uri": "https://localhost:8080/"
        },
        "outputId": "6e23d04a-9c44-43c3-da35-666bd5f6849a"
      },
      "source": [
        "train_data_pred = [i for i in x]\n",
        "for k in range(len(x)):\n",
        "    train_data_pred[k]=(m*x[k] + c)\n",
        "from sklearn.metrics import mean_squared_error\n",
        "mse = mean_squared_error(y,train_data_pred)\n",
        "print(\"Mean Square Error for training data (MSE) : \",mse)\n",
        "print(\"Root mean square error for training data (RMSE) : \",mse**0.5)"
      ],
      "execution_count": 50,
      "outputs": [
        {
          "output_type": "stream",
          "text": [
            "Mean Square Error for training data (MSE) :  0.04904429047025016\n",
            "Root mean square error for training data (RMSE) :  0.22145945559006994\n"
          ],
          "name": "stdout"
        }
      ]
    },
    {
      "cell_type": "code",
      "metadata": {
        "id": "8LPFAoxy0VRD",
        "colab": {
          "base_uri": "https://localhost:8080/",
          "height": 298
        },
        "outputId": "109fc78a-4639-4059-d682-5f7249864f62"
      },
      "source": [
        "plt.plot(np.array(x),np.array(train_data_pred),'green')\n",
        "plt.scatter(np.array(x),np.array(y),color='red')\n",
        "plt.title('Predicted data vs Actual data')"
      ],
      "execution_count": 51,
      "outputs": [
        {
          "output_type": "execute_result",
          "data": {
            "text/plain": [
              "Text(0.5, 1.0, 'Predicted data vs Actual data')"
            ]
          },
          "metadata": {
            "tags": []
          },
          "execution_count": 51
        },
        {
          "output_type": "display_data",
          "data": {
            "image/png": "[encoded data removed]",
            "text/plain": [
              "<Figure size 432x288 with 1 Axes>"
            ]
          },
          "metadata": {
            "tags": [],
            "needs_background": "light"
          }
        }
      ]
    },
    {
      "cell_type": "code",
      "metadata": {
        "id": "47HYHtUo05fx",
        "colab": {
          "base_uri": "https://localhost:8080/",
          "height": 295
        },
        "outputId": "c28fe98c-fcb8-45f6-a7fb-017bda4b080e"
      },
      "source": [
        "iters=np.arange(epochs*len(x))\n",
        "plt.plot(iters,err,'green')\n",
        "plt.title(\"Error graph for training data\")\n",
        "plt.xlabel(\"iteration count\")\n",
        "plt.ylabel(\"error\")\n",
        "plt.grid()"
      ],
      "execution_count": 52,
      "outputs": [
        {
          "output_type": "display_data",
          "data": {
            "image/png": "[encoded data removed]",
            "text/plain": [
              "<Figure size 432x288 with 1 Axes>"
            ]
          },
          "metadata": {
            "tags": [],
            "needs_background": "light"
          }
        }
      ]
    },
    {
      "cell_type": "markdown",
      "metadata": {
        "id": "CcjZybHcKzTK"
      },
      "source": [
        "\n",
        "**Test Data:**"
      ]
    },
    {
      "cell_type": "code",
      "metadata": {
        "colab": {
          "base_uri": "https://localhost:8080/"
        },
        "id": "K0krKyp9Kb7k",
        "outputId": "0da325ec-3f8c-4fdf-ddaf-138db6ef77fa"
      },
      "source": [
        "xx = []\n",
        "yy = []\n",
        "for i in range(len(test_data.iloc[:,0])-24):\n",
        "    xx.append(test_data.iloc[i,0])\n",
        "    yy.append(test_data.iloc[i+24,0])\n",
        "test_data_pred = [i for i in xx]\n",
        "for k in range(len(xx)):\n",
        "    test_data_pred[k]=(m*xx[k] + c)\n",
        "from sklearn.metrics import mean_squared_error\n",
        "mse = mean_squared_error(yy,test_data_pred)\n",
        "print(\"Mean Square Error for testing data (MSE) : \",mse)\n",
        "print(\"Root Mean Square Error for testing data (RMSE) : \",mse**0.5)"
      ],
      "execution_count": 53,
      "outputs": [
        {
          "output_type": "stream",
          "text": [
            "Mean Square Error for testing data (MSE) :  0.04031196551583746\n",
            "Root Mean Square Error for testing data (RMSE) :  0.20077839902698064\n"
          ],
          "name": "stdout"
        }
      ]
    },
    {
      "cell_type": "code",
      "metadata": {
        "colab": {
          "base_uri": "https://localhost:8080/",
          "height": 265
        },
        "id": "IbL7iJiSKiRN",
        "outputId": "f52e59ad-b183-441e-a05f-a6e2320d50ae"
      },
      "source": [
        "plt.scatter(xx,yy,color='red')\n",
        "plt.plot(xx,test_data_pred,'green')\n",
        "plt.grid()"
      ],
      "execution_count": 54,
      "outputs": [
        {
          "output_type": "display_data",
          "data": {
            "image/png": "[encoded data removed]",
            "text/plain": [
              "<Figure size 432x288 with 1 Axes>"
            ]
          },
          "metadata": {
            "tags": [],
            "needs_background": "light"
          }
        }
      ]
    },
    {
      "cell_type": "markdown",
      "metadata": {
        "id": "UbAEdKsCLPo1"
      },
      "source": [
        "**Predict the Output:**"
      ]
    },
    {
      "cell_type": "code",
      "metadata": {
        "colab": {
          "base_uri": "https://localhost:8080/"
        },
        "id": "-jzKtxatLSZs",
        "outputId": "3f1fee9b-96a2-4465-96f7-ecad586f530e"
      },
      "source": [
        "x_max=y_max= 8841.669480\n",
        "x_min=y_min= 3377.919600\n",
        "x2= float(input(\"Enter load of previous hour : \"))\n",
        "xi=(x2-x_min)/(x_max-x_min)\n",
        "yi=m*xi+c\n",
        "yi=yi*(y_max-y_min)+y_min\n",
        "print(\"Load at hour based on its previous hour {} is : {}\".format(x2,yi))"
      ],
      "execution_count": 55,
      "outputs": [
        {
          "output_type": "stream",
          "text": [
            "Enter load of previous hour : 5138.896\n",
            "Load at hour based on its previous hour 5138.896 is : 6111.711396078776\n"
          ],
          "name": "stdout"
        }
      ]
    }
  ]
}