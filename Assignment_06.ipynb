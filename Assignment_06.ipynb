{
  "nbformat": 4,
  "nbformat_minor": 0,
  "metadata": {
    "colab": {
      "name": "Assignment 06.ipynb",
      "provenance": [],
      "collapsed_sections": []
    },
    "kernelspec": {
      "name": "python3",
      "display_name": "Python 3"
    },
    "language_info": {
      "name": "python"
    }
  },
  "cells": [
    {
      "cell_type": "markdown",
      "metadata": {
        "id": "xxnW6V5mAi3_"
      },
      "source": [
        "**Data Preprocessing**"
      ]
    },
    {
      "cell_type": "code",
      "metadata": {
        "id": "tqtKmKTo3Pye"
      },
      "source": [
        "import numpy as np\n",
        "import matplotlib.pyplot as plt\n",
        "import pandas as pd\n",
        "from sklearn.preprocessing import minmax_scale\n",
        "from sklearn.model_selection import train_test_split\n",
        "import seaborn as sns\n",
        "from scipy import stats"
      ],
      "execution_count": 1,
      "outputs": []
    },
    {
      "cell_type": "code",
      "metadata": {
        "colab": {
          "base_uri": "https://localhost:8080/",
          "height": 215
        },
        "id": "qDRGASkp3hIv",
        "outputId": "7ddbb868-4708-43cf-a113-ccdc6f09d046"
      },
      "source": [
        "data=pd.read_csv(\"/kc_house_data.csv\")\n",
        "data.head()"
      ],
      "execution_count": 2,
      "outputs": [
        {
          "output_type": "execute_result",
          "data": {
            "text/html": [
              "<div>\n",
              "<style scoped>\n",
              "    .dataframe tbody tr th:only-of-type {\n",
              "        vertical-align: middle;\n",
              "    }\n",
              "\n",
              "    .dataframe tbody tr th {\n",
              "        vertical-align: top;\n",
              "    }\n",
              "\n",
              "    .dataframe thead th {\n",
              "        text-align: right;\n",
              "    }\n",
              "</style>\n",
              "<table border=\"1\" class=\"dataframe\">\n",
              "  <thead>\n",
              "    <tr style=\"text-align: right;\">\n",
              "      <th></th>\n",
              "      <th>id</th>\n",
              "      <th>date</th>\n",
              "      <th>price</th>\n",
              "      <th>bedrooms</th>\n",
              "      <th>bathrooms</th>\n",
              "      <th>sqft_living</th>\n",
              "      <th>sqft_lot</th>\n",
              "      <th>floors</th>\n",
              "      <th>waterfront</th>\n",
              "      <th>view</th>\n",
              "      <th>condition</th>\n",
              "      <th>grade</th>\n",
              "      <th>sqft_above</th>\n",
              "      <th>sqft_basement</th>\n",
              "      <th>yr_built</th>\n",
              "      <th>yr_renovated</th>\n",
              "      <th>zipcode</th>\n",
              "      <th>lat</th>\n",
              "      <th>long</th>\n",
              "      <th>sqft_living15</th>\n",
              "      <th>sqft_lot15</th>\n",
              "    </tr>\n",
              "  </thead>\n",
              "  <tbody>\n",
              "    <tr>\n",
              "      <th>0</th>\n",
              "      <td>7129300520</td>\n",
              "      <td>20141013T000000</td>\n",
              "      <td>221900.0</td>\n",
              "      <td>3</td>\n",
              "      <td>1.00</td>\n",
              "      <td>1180</td>\n",
              "      <td>5650</td>\n",
              "      <td>1.0</td>\n",
              "      <td>0</td>\n",
              "      <td>0</td>\n",
              "      <td>3</td>\n",
              "      <td>7</td>\n",
              "      <td>1180</td>\n",
              "      <td>0</td>\n",
              "      <td>1955</td>\n",
              "      <td>0</td>\n",
              "      <td>98178</td>\n",
              "      <td>47.5112</td>\n",
              "      <td>-122.257</td>\n",
              "      <td>1340</td>\n",
              "      <td>5650</td>\n",
              "    </tr>\n",
              "    <tr>\n",
              "      <th>1</th>\n",
              "      <td>6414100192</td>\n",
              "      <td>20141209T000000</td>\n",
              "      <td>538000.0</td>\n",
              "      <td>3</td>\n",
              "      <td>2.25</td>\n",
              "      <td>2570</td>\n",
              "      <td>7242</td>\n",
              "      <td>2.0</td>\n",
              "      <td>0</td>\n",
              "      <td>0</td>\n",
              "      <td>3</td>\n",
              "      <td>7</td>\n",
              "      <td>2170</td>\n",
              "      <td>400</td>\n",
              "      <td>1951</td>\n",
              "      <td>1991</td>\n",
              "      <td>98125</td>\n",
              "      <td>47.7210</td>\n",
              "      <td>-122.319</td>\n",
              "      <td>1690</td>\n",
              "      <td>7639</td>\n",
              "    </tr>\n",
              "    <tr>\n",
              "      <th>2</th>\n",
              "      <td>5631500400</td>\n",
              "      <td>20150225T000000</td>\n",
              "      <td>180000.0</td>\n",
              "      <td>2</td>\n",
              "      <td>1.00</td>\n",
              "      <td>770</td>\n",
              "      <td>10000</td>\n",
              "      <td>1.0</td>\n",
              "      <td>0</td>\n",
              "      <td>0</td>\n",
              "      <td>3</td>\n",
              "      <td>6</td>\n",
              "      <td>770</td>\n",
              "      <td>0</td>\n",
              "      <td>1933</td>\n",
              "      <td>0</td>\n",
              "      <td>98028</td>\n",
              "      <td>47.7379</td>\n",
              "      <td>-122.233</td>\n",
              "      <td>2720</td>\n",
              "      <td>8062</td>\n",
              "    </tr>\n",
              "    <tr>\n",
              "      <th>3</th>\n",
              "      <td>2487200875</td>\n",
              "      <td>20141209T000000</td>\n",
              "      <td>604000.0</td>\n",
              "      <td>4</td>\n",
              "      <td>3.00</td>\n",
              "      <td>1960</td>\n",
              "      <td>5000</td>\n",
              "      <td>1.0</td>\n",
              "      <td>0</td>\n",
              "      <td>0</td>\n",
              "      <td>5</td>\n",
              "      <td>7</td>\n",
              "      <td>1050</td>\n",
              "      <td>910</td>\n",
              "      <td>1965</td>\n",
              "      <td>0</td>\n",
              "      <td>98136</td>\n",
              "      <td>47.5208</td>\n",
              "      <td>-122.393</td>\n",
              "      <td>1360</td>\n",
              "      <td>5000</td>\n",
              "    </tr>\n",
              "    <tr>\n",
              "      <th>4</th>\n",
              "      <td>1954400510</td>\n",
              "      <td>20150218T000000</td>\n",
              "      <td>510000.0</td>\n",
              "      <td>3</td>\n",
              "      <td>2.00</td>\n",
              "      <td>1680</td>\n",
              "      <td>8080</td>\n",
              "      <td>1.0</td>\n",
              "      <td>0</td>\n",
              "      <td>0</td>\n",
              "      <td>3</td>\n",
              "      <td>8</td>\n",
              "      <td>1680</td>\n",
              "      <td>0</td>\n",
              "      <td>1987</td>\n",
              "      <td>0</td>\n",
              "      <td>98074</td>\n",
              "      <td>47.6168</td>\n",
              "      <td>-122.045</td>\n",
              "      <td>1800</td>\n",
              "      <td>7503</td>\n",
              "    </tr>\n",
              "  </tbody>\n",
              "</table>\n",
              "</div>"
            ],
            "text/plain": [
              "           id             date     price  ...     long  sqft_living15  sqft_lot15\n",
              "0  7129300520  20141013T000000  221900.0  ... -122.257           1340        5650\n",
              "1  6414100192  20141209T000000  538000.0  ... -122.319           1690        7639\n",
              "2  5631500400  20150225T000000  180000.0  ... -122.233           2720        8062\n",
              "3  2487200875  20141209T000000  604000.0  ... -122.393           1360        5000\n",
              "4  1954400510  20150218T000000  510000.0  ... -122.045           1800        7503\n",
              "\n",
              "[5 rows x 21 columns]"
            ]
          },
          "metadata": {
            "tags": []
          },
          "execution_count": 2
        }
      ]
    },
    {
      "cell_type": "code",
      "metadata": {
        "colab": {
          "base_uri": "https://localhost:8080/"
        },
        "id": "N2kXs5F_4GX6",
        "outputId": "9bb51287-99aa-442a-a385-de665f89d8b2"
      },
      "source": [
        "data.info()"
      ],
      "execution_count": 3,
      "outputs": [
        {
          "output_type": "stream",
          "text": [
            "<class 'pandas.core.frame.DataFrame'>\n",
            "RangeIndex: 21613 entries, 0 to 21612\n",
            "Data columns (total 21 columns):\n",
            " #   Column         Non-Null Count  Dtype  \n",
            "---  ------         --------------  -----  \n",
            " 0   id             21613 non-null  int64  \n",
            " 1   date           21613 non-null  object \n",
            " 2   price          21613 non-null  float64\n",
            " 3   bedrooms       21613 non-null  int64  \n",
            " 4   bathrooms      21613 non-null  float64\n",
            " 5   sqft_living    21613 non-null  int64  \n",
            " 6   sqft_lot       21613 non-null  int64  \n",
            " 7   floors         21613 non-null  float64\n",
            " 8   waterfront     21613 non-null  int64  \n",
            " 9   view           21613 non-null  int64  \n",
            " 10  condition      21613 non-null  int64  \n",
            " 11  grade          21613 non-null  int64  \n",
            " 12  sqft_above     21613 non-null  int64  \n",
            " 13  sqft_basement  21613 non-null  int64  \n",
            " 14  yr_built       21613 non-null  int64  \n",
            " 15  yr_renovated   21613 non-null  int64  \n",
            " 16  zipcode        21613 non-null  int64  \n",
            " 17  lat            21613 non-null  float64\n",
            " 18  long           21613 non-null  float64\n",
            " 19  sqft_living15  21613 non-null  int64  \n",
            " 20  sqft_lot15     21613 non-null  int64  \n",
            "dtypes: float64(5), int64(15), object(1)\n",
            "memory usage: 3.5+ MB\n"
          ],
          "name": "stdout"
        }
      ]
    },
    {
      "cell_type": "markdown",
      "metadata": {
        "id": "XwANTUFE4Pod"
      },
      "source": [
        "**Outliers**"
      ]
    },
    {
      "cell_type": "code",
      "metadata": {
        "colab": {
          "base_uri": "https://localhost:8080/"
        },
        "id": "ZpU9m1hH4J-J",
        "outputId": "55a4a38b-12b4-44dc-c673-76387d82c4e7"
      },
      "source": [
        "z=np.abs(stats.zscore(data['price']))\n",
        "print(z)"
      ],
      "execution_count": 4,
      "outputs": [
        {
          "output_type": "stream",
          "text": [
            "[0.86671733 0.00568792 0.98084935 ... 0.37586519 0.38158814 0.58588173]\n"
          ],
          "name": "stdout"
        }
      ]
    },
    {
      "cell_type": "code",
      "metadata": {
        "colab": {
          "base_uri": "https://localhost:8080/",
          "height": 296
        },
        "id": "fDyA8q_t4SNe",
        "outputId": "40b57a16-7925-4f15-9aa4-94d788f97a89"
      },
      "source": [
        "sns.boxplot(x=data['price'])"
      ],
      "execution_count": 5,
      "outputs": [
        {
          "output_type": "execute_result",
          "data": {
            "text/plain": [
              "<matplotlib.axes._subplots.AxesSubplot at 0x7fa08af71410>"
            ]
          },
          "metadata": {
            "tags": []
          },
          "execution_count": 5
        },
        {
          "output_type": "display_data",
          "data": {
            "image/png": "[encoded data removed]",
            "text/plain": [
              "<Figure size 432x288 with 1 Axes>"
            ]
          },
          "metadata": {
            "tags": [],
            "needs_background": "light"
          }
        }
      ]
    },
    {
      "cell_type": "code",
      "metadata": {
        "colab": {
          "base_uri": "https://localhost:8080/",
          "height": 215
        },
        "id": "FkAcRIkW4Jy0",
        "outputId": "6a880b2e-e549-4be8-f414-a73b4f372214"
      },
      "source": [
        "df=pd.DataFrame(data=data)\n",
        "df.head()"
      ],
      "execution_count": 6,
      "outputs": [
        {
          "output_type": "execute_result",
          "data": {
            "text/html": [
              "<div>\n",
              "<style scoped>\n",
              "    .dataframe tbody tr th:only-of-type {\n",
              "        vertical-align: middle;\n",
              "    }\n",
              "\n",
              "    .dataframe tbody tr th {\n",
              "        vertical-align: top;\n",
              "    }\n",
              "\n",
              "    .dataframe thead th {\n",
              "        text-align: right;\n",
              "    }\n",
              "</style>\n",
              "<table border=\"1\" class=\"dataframe\">\n",
              "  <thead>\n",
              "    <tr style=\"text-align: right;\">\n",
              "      <th></th>\n",
              "      <th>id</th>\n",
              "      <th>date</th>\n",
              "      <th>price</th>\n",
              "      <th>bedrooms</th>\n",
              "      <th>bathrooms</th>\n",
              "      <th>sqft_living</th>\n",
              "      <th>sqft_lot</th>\n",
              "      <th>floors</th>\n",
              "      <th>waterfront</th>\n",
              "      <th>view</th>\n",
              "      <th>condition</th>\n",
              "      <th>grade</th>\n",
              "      <th>sqft_above</th>\n",
              "      <th>sqft_basement</th>\n",
              "      <th>yr_built</th>\n",
              "      <th>yr_renovated</th>\n",
              "      <th>zipcode</th>\n",
              "      <th>lat</th>\n",
              "      <th>long</th>\n",
              "      <th>sqft_living15</th>\n",
              "      <th>sqft_lot15</th>\n",
              "    </tr>\n",
              "  </thead>\n",
              "  <tbody>\n",
              "    <tr>\n",
              "      <th>0</th>\n",
              "      <td>7129300520</td>\n",
              "      <td>20141013T000000</td>\n",
              "      <td>221900.0</td>\n",
              "      <td>3</td>\n",
              "      <td>1.00</td>\n",
              "      <td>1180</td>\n",
              "      <td>5650</td>\n",
              "      <td>1.0</td>\n",
              "      <td>0</td>\n",
              "      <td>0</td>\n",
              "      <td>3</td>\n",
              "      <td>7</td>\n",
              "      <td>1180</td>\n",
              "      <td>0</td>\n",
              "      <td>1955</td>\n",
              "      <td>0</td>\n",
              "      <td>98178</td>\n",
              "      <td>47.5112</td>\n",
              "      <td>-122.257</td>\n",
              "      <td>1340</td>\n",
              "      <td>5650</td>\n",
              "    </tr>\n",
              "    <tr>\n",
              "      <th>1</th>\n",
              "      <td>6414100192</td>\n",
              "      <td>20141209T000000</td>\n",
              "      <td>538000.0</td>\n",
              "      <td>3</td>\n",
              "      <td>2.25</td>\n",
              "      <td>2570</td>\n",
              "      <td>7242</td>\n",
              "      <td>2.0</td>\n",
              "      <td>0</td>\n",
              "      <td>0</td>\n",
              "      <td>3</td>\n",
              "      <td>7</td>\n",
              "      <td>2170</td>\n",
              "      <td>400</td>\n",
              "      <td>1951</td>\n",
              "      <td>1991</td>\n",
              "      <td>98125</td>\n",
              "      <td>47.7210</td>\n",
              "      <td>-122.319</td>\n",
              "      <td>1690</td>\n",
              "      <td>7639</td>\n",
              "    </tr>\n",
              "    <tr>\n",
              "      <th>2</th>\n",
              "      <td>5631500400</td>\n",
              "      <td>20150225T000000</td>\n",
              "      <td>180000.0</td>\n",
              "      <td>2</td>\n",
              "      <td>1.00</td>\n",
              "      <td>770</td>\n",
              "      <td>10000</td>\n",
              "      <td>1.0</td>\n",
              "      <td>0</td>\n",
              "      <td>0</td>\n",
              "      <td>3</td>\n",
              "      <td>6</td>\n",
              "      <td>770</td>\n",
              "      <td>0</td>\n",
              "      <td>1933</td>\n",
              "      <td>0</td>\n",
              "      <td>98028</td>\n",
              "      <td>47.7379</td>\n",
              "      <td>-122.233</td>\n",
              "      <td>2720</td>\n",
              "      <td>8062</td>\n",
              "    </tr>\n",
              "    <tr>\n",
              "      <th>3</th>\n",
              "      <td>2487200875</td>\n",
              "      <td>20141209T000000</td>\n",
              "      <td>604000.0</td>\n",
              "      <td>4</td>\n",
              "      <td>3.00</td>\n",
              "      <td>1960</td>\n",
              "      <td>5000</td>\n",
              "      <td>1.0</td>\n",
              "      <td>0</td>\n",
              "      <td>0</td>\n",
              "      <td>5</td>\n",
              "      <td>7</td>\n",
              "      <td>1050</td>\n",
              "      <td>910</td>\n",
              "      <td>1965</td>\n",
              "      <td>0</td>\n",
              "      <td>98136</td>\n",
              "      <td>47.5208</td>\n",
              "      <td>-122.393</td>\n",
              "      <td>1360</td>\n",
              "      <td>5000</td>\n",
              "    </tr>\n",
              "    <tr>\n",
              "      <th>4</th>\n",
              "      <td>1954400510</td>\n",
              "      <td>20150218T000000</td>\n",
              "      <td>510000.0</td>\n",
              "      <td>3</td>\n",
              "      <td>2.00</td>\n",
              "      <td>1680</td>\n",
              "      <td>8080</td>\n",
              "      <td>1.0</td>\n",
              "      <td>0</td>\n",
              "      <td>0</td>\n",
              "      <td>3</td>\n",
              "      <td>8</td>\n",
              "      <td>1680</td>\n",
              "      <td>0</td>\n",
              "      <td>1987</td>\n",
              "      <td>0</td>\n",
              "      <td>98074</td>\n",
              "      <td>47.6168</td>\n",
              "      <td>-122.045</td>\n",
              "      <td>1800</td>\n",
              "      <td>7503</td>\n",
              "    </tr>\n",
              "  </tbody>\n",
              "</table>\n",
              "</div>"
            ],
            "text/plain": [
              "           id             date     price  ...     long  sqft_living15  sqft_lot15\n",
              "0  7129300520  20141013T000000  221900.0  ... -122.257           1340        5650\n",
              "1  6414100192  20141209T000000  538000.0  ... -122.319           1690        7639\n",
              "2  5631500400  20150225T000000  180000.0  ... -122.233           2720        8062\n",
              "3  2487200875  20141209T000000  604000.0  ... -122.393           1360        5000\n",
              "4  1954400510  20150218T000000  510000.0  ... -122.045           1800        7503\n",
              "\n",
              "[5 rows x 21 columns]"
            ]
          },
          "metadata": {
            "tags": []
          },
          "execution_count": 6
        }
      ]
    },
    {
      "cell_type": "code",
      "metadata": {
        "colab": {
          "base_uri": "https://localhost:8080/",
          "height": 215
        },
        "id": "h7G69Ebr4Jok",
        "outputId": "a01dfee8-f79c-4bbb-8949-044147d1fad5"
      },
      "source": [
        "x=df\n",
        "df.drop(['date'],axis=1)\n",
        "for i in df:\n",
        "  if i!='date':\n",
        "    q=df[i].quantile(0.99)\n",
        "    df[df[i]<q]\n",
        "    q_low=df[i].quantile(0.01)\n",
        "    q_hi=df[i].quantile(0.99)\n",
        "    df_filtered=df[(df[i]<q_hi)&(df[i]>q_low)]\n",
        "df_filtered.head()"
      ],
      "execution_count": 7,
      "outputs": [
        {
          "output_type": "execute_result",
          "data": {
            "text/html": [
              "<div>\n",
              "<style scoped>\n",
              "    .dataframe tbody tr th:only-of-type {\n",
              "        vertical-align: middle;\n",
              "    }\n",
              "\n",
              "    .dataframe tbody tr th {\n",
              "        vertical-align: top;\n",
              "    }\n",
              "\n",
              "    .dataframe thead th {\n",
              "        text-align: right;\n",
              "    }\n",
              "</style>\n",
              "<table border=\"1\" class=\"dataframe\">\n",
              "  <thead>\n",
              "    <tr style=\"text-align: right;\">\n",
              "      <th></th>\n",
              "      <th>id</th>\n",
              "      <th>date</th>\n",
              "      <th>price</th>\n",
              "      <th>bedrooms</th>\n",
              "      <th>bathrooms</th>\n",
              "      <th>sqft_living</th>\n",
              "      <th>sqft_lot</th>\n",
              "      <th>floors</th>\n",
              "      <th>waterfront</th>\n",
              "      <th>view</th>\n",
              "      <th>condition</th>\n",
              "      <th>grade</th>\n",
              "      <th>sqft_above</th>\n",
              "      <th>sqft_basement</th>\n",
              "      <th>yr_built</th>\n",
              "      <th>yr_renovated</th>\n",
              "      <th>zipcode</th>\n",
              "      <th>lat</th>\n",
              "      <th>long</th>\n",
              "      <th>sqft_living15</th>\n",
              "      <th>sqft_lot15</th>\n",
              "    </tr>\n",
              "  </thead>\n",
              "  <tbody>\n",
              "    <tr>\n",
              "      <th>0</th>\n",
              "      <td>7129300520</td>\n",
              "      <td>20141013T000000</td>\n",
              "      <td>221900.0</td>\n",
              "      <td>3</td>\n",
              "      <td>1.00</td>\n",
              "      <td>1180</td>\n",
              "      <td>5650</td>\n",
              "      <td>1.0</td>\n",
              "      <td>0</td>\n",
              "      <td>0</td>\n",
              "      <td>3</td>\n",
              "      <td>7</td>\n",
              "      <td>1180</td>\n",
              "      <td>0</td>\n",
              "      <td>1955</td>\n",
              "      <td>0</td>\n",
              "      <td>98178</td>\n",
              "      <td>47.5112</td>\n",
              "      <td>-122.257</td>\n",
              "      <td>1340</td>\n",
              "      <td>5650</td>\n",
              "    </tr>\n",
              "    <tr>\n",
              "      <th>1</th>\n",
              "      <td>6414100192</td>\n",
              "      <td>20141209T000000</td>\n",
              "      <td>538000.0</td>\n",
              "      <td>3</td>\n",
              "      <td>2.25</td>\n",
              "      <td>2570</td>\n",
              "      <td>7242</td>\n",
              "      <td>2.0</td>\n",
              "      <td>0</td>\n",
              "      <td>0</td>\n",
              "      <td>3</td>\n",
              "      <td>7</td>\n",
              "      <td>2170</td>\n",
              "      <td>400</td>\n",
              "      <td>1951</td>\n",
              "      <td>1991</td>\n",
              "      <td>98125</td>\n",
              "      <td>47.7210</td>\n",
              "      <td>-122.319</td>\n",
              "      <td>1690</td>\n",
              "      <td>7639</td>\n",
              "    </tr>\n",
              "    <tr>\n",
              "      <th>2</th>\n",
              "      <td>5631500400</td>\n",
              "      <td>20150225T000000</td>\n",
              "      <td>180000.0</td>\n",
              "      <td>2</td>\n",
              "      <td>1.00</td>\n",
              "      <td>770</td>\n",
              "      <td>10000</td>\n",
              "      <td>1.0</td>\n",
              "      <td>0</td>\n",
              "      <td>0</td>\n",
              "      <td>3</td>\n",
              "      <td>6</td>\n",
              "      <td>770</td>\n",
              "      <td>0</td>\n",
              "      <td>1933</td>\n",
              "      <td>0</td>\n",
              "      <td>98028</td>\n",
              "      <td>47.7379</td>\n",
              "      <td>-122.233</td>\n",
              "      <td>2720</td>\n",
              "      <td>8062</td>\n",
              "    </tr>\n",
              "    <tr>\n",
              "      <th>3</th>\n",
              "      <td>2487200875</td>\n",
              "      <td>20141209T000000</td>\n",
              "      <td>604000.0</td>\n",
              "      <td>4</td>\n",
              "      <td>3.00</td>\n",
              "      <td>1960</td>\n",
              "      <td>5000</td>\n",
              "      <td>1.0</td>\n",
              "      <td>0</td>\n",
              "      <td>0</td>\n",
              "      <td>5</td>\n",
              "      <td>7</td>\n",
              "      <td>1050</td>\n",
              "      <td>910</td>\n",
              "      <td>1965</td>\n",
              "      <td>0</td>\n",
              "      <td>98136</td>\n",
              "      <td>47.5208</td>\n",
              "      <td>-122.393</td>\n",
              "      <td>1360</td>\n",
              "      <td>5000</td>\n",
              "    </tr>\n",
              "    <tr>\n",
              "      <th>4</th>\n",
              "      <td>1954400510</td>\n",
              "      <td>20150218T000000</td>\n",
              "      <td>510000.0</td>\n",
              "      <td>3</td>\n",
              "      <td>2.00</td>\n",
              "      <td>1680</td>\n",
              "      <td>8080</td>\n",
              "      <td>1.0</td>\n",
              "      <td>0</td>\n",
              "      <td>0</td>\n",
              "      <td>3</td>\n",
              "      <td>8</td>\n",
              "      <td>1680</td>\n",
              "      <td>0</td>\n",
              "      <td>1987</td>\n",
              "      <td>0</td>\n",
              "      <td>98074</td>\n",
              "      <td>47.6168</td>\n",
              "      <td>-122.045</td>\n",
              "      <td>1800</td>\n",
              "      <td>7503</td>\n",
              "    </tr>\n",
              "  </tbody>\n",
              "</table>\n",
              "</div>"
            ],
            "text/plain": [
              "           id             date     price  ...     long  sqft_living15  sqft_lot15\n",
              "0  7129300520  20141013T000000  221900.0  ... -122.257           1340        5650\n",
              "1  6414100192  20141209T000000  538000.0  ... -122.319           1690        7639\n",
              "2  5631500400  20150225T000000  180000.0  ... -122.233           2720        8062\n",
              "3  2487200875  20141209T000000  604000.0  ... -122.393           1360        5000\n",
              "4  1954400510  20150218T000000  510000.0  ... -122.045           1800        7503\n",
              "\n",
              "[5 rows x 21 columns]"
            ]
          },
          "metadata": {
            "tags": []
          },
          "execution_count": 7
        }
      ]
    },
    {
      "cell_type": "code",
      "metadata": {
        "colab": {
          "base_uri": "https://localhost:8080/"
        },
        "id": "zZvsBt5n4Je7",
        "outputId": "fabf3504-4c59-436a-9e45-1a5db5ef3fc6"
      },
      "source": [
        "print(len(df))\n",
        "print(len(df_filtered))\n",
        "if(len(df)==len(df_filtered)):\n",
        "  print('No outliers')\n",
        "data=df_filtered"
      ],
      "execution_count": 8,
      "outputs": [
        {
          "output_type": "stream",
          "text": [
            "21613\n",
            "21178\n"
          ],
          "name": "stdout"
        }
      ]
    },
    {
      "cell_type": "markdown",
      "metadata": {
        "id": "fAxpBfIJ4qeP"
      },
      "source": [
        "**Normalization**"
      ]
    },
    {
      "cell_type": "code",
      "metadata": {
        "colab": {
          "base_uri": "https://localhost:8080/",
          "height": 215
        },
        "id": "M9suEeDF4JTs",
        "outputId": "e227ef7b-c68f-494d-ca34-4a74c437b386"
      },
      "source": [
        "data_n=data.copy()\n",
        "for i in data:\n",
        "  if i!='date':\n",
        "    data_n[i]=data[i].copy()\n",
        "    data_n[i]=(data_n[i]-data_n[i].min())/(data_n[i].max()-data_n[i].min())\n",
        "data_n.head()"
      ],
      "execution_count": 9,
      "outputs": [
        {
          "output_type": "execute_result",
          "data": {
            "text/html": [
              "<div>\n",
              "<style scoped>\n",
              "    .dataframe tbody tr th:only-of-type {\n",
              "        vertical-align: middle;\n",
              "    }\n",
              "\n",
              "    .dataframe tbody tr th {\n",
              "        vertical-align: top;\n",
              "    }\n",
              "\n",
              "    .dataframe thead th {\n",
              "        text-align: right;\n",
              "    }\n",
              "</style>\n",
              "<table border=\"1\" class=\"dataframe\">\n",
              "  <thead>\n",
              "    <tr style=\"text-align: right;\">\n",
              "      <th></th>\n",
              "      <th>id</th>\n",
              "      <th>date</th>\n",
              "      <th>price</th>\n",
              "      <th>bedrooms</th>\n",
              "      <th>bathrooms</th>\n",
              "      <th>sqft_living</th>\n",
              "      <th>sqft_lot</th>\n",
              "      <th>floors</th>\n",
              "      <th>waterfront</th>\n",
              "      <th>view</th>\n",
              "      <th>condition</th>\n",
              "      <th>grade</th>\n",
              "      <th>sqft_above</th>\n",
              "      <th>sqft_basement</th>\n",
              "      <th>yr_built</th>\n",
              "      <th>yr_renovated</th>\n",
              "      <th>zipcode</th>\n",
              "      <th>lat</th>\n",
              "      <th>long</th>\n",
              "      <th>sqft_living15</th>\n",
              "      <th>sqft_lot15</th>\n",
              "    </tr>\n",
              "  </thead>\n",
              "  <tbody>\n",
              "    <tr>\n",
              "      <th>0</th>\n",
              "      <td>0.720103</td>\n",
              "      <td>20141013T000000</td>\n",
              "      <td>0.019266</td>\n",
              "      <td>0.090909</td>\n",
              "      <td>0.12500</td>\n",
              "      <td>0.075680</td>\n",
              "      <td>0.004338</td>\n",
              "      <td>0.0</td>\n",
              "      <td>0.0</td>\n",
              "      <td>0.0</td>\n",
              "      <td>0.5</td>\n",
              "      <td>0.500000</td>\n",
              "      <td>0.103851</td>\n",
              "      <td>0.000000</td>\n",
              "      <td>0.478261</td>\n",
              "      <td>0.000000</td>\n",
              "      <td>0.893939</td>\n",
              "      <td>0.571498</td>\n",
              "      <td>0.215000</td>\n",
              "      <td>0.153043</td>\n",
              "      <td>0.028583</td>\n",
              "    </tr>\n",
              "    <tr>\n",
              "      <th>1</th>\n",
              "      <td>0.647853</td>\n",
              "      <td>20141209T000000</td>\n",
              "      <td>0.060721</td>\n",
              "      <td>0.090909</td>\n",
              "      <td>0.28125</td>\n",
              "      <td>0.193878</td>\n",
              "      <td>0.005705</td>\n",
              "      <td>0.4</td>\n",
              "      <td>0.0</td>\n",
              "      <td>0.0</td>\n",
              "      <td>0.5</td>\n",
              "      <td>0.500000</td>\n",
              "      <td>0.219370</td>\n",
              "      <td>0.082988</td>\n",
              "      <td>0.443478</td>\n",
              "      <td>0.988089</td>\n",
              "      <td>0.626263</td>\n",
              "      <td>0.908959</td>\n",
              "      <td>0.163333</td>\n",
              "      <td>0.213913</td>\n",
              "      <td>0.041339</td>\n",
              "    </tr>\n",
              "    <tr>\n",
              "      <th>2</th>\n",
              "      <td>0.568795</td>\n",
              "      <td>20150225T000000</td>\n",
              "      <td>0.013770</td>\n",
              "      <td>0.060606</td>\n",
              "      <td>0.12500</td>\n",
              "      <td>0.040816</td>\n",
              "      <td>0.008074</td>\n",
              "      <td>0.0</td>\n",
              "      <td>0.0</td>\n",
              "      <td>0.0</td>\n",
              "      <td>0.5</td>\n",
              "      <td>0.416667</td>\n",
              "      <td>0.056009</td>\n",
              "      <td>0.000000</td>\n",
              "      <td>0.286957</td>\n",
              "      <td>0.000000</td>\n",
              "      <td>0.136364</td>\n",
              "      <td>0.936143</td>\n",
              "      <td>0.235000</td>\n",
              "      <td>0.393043</td>\n",
              "      <td>0.044052</td>\n",
              "    </tr>\n",
              "    <tr>\n",
              "      <th>3</th>\n",
              "      <td>0.251157</td>\n",
              "      <td>20141209T000000</td>\n",
              "      <td>0.069377</td>\n",
              "      <td>0.121212</td>\n",
              "      <td>0.37500</td>\n",
              "      <td>0.142007</td>\n",
              "      <td>0.003779</td>\n",
              "      <td>0.0</td>\n",
              "      <td>0.0</td>\n",
              "      <td>0.0</td>\n",
              "      <td>1.0</td>\n",
              "      <td>0.500000</td>\n",
              "      <td>0.088681</td>\n",
              "      <td>0.188797</td>\n",
              "      <td>0.565217</td>\n",
              "      <td>0.000000</td>\n",
              "      <td>0.681818</td>\n",
              "      <td>0.586939</td>\n",
              "      <td>0.101667</td>\n",
              "      <td>0.156522</td>\n",
              "      <td>0.024415</td>\n",
              "    </tr>\n",
              "    <tr>\n",
              "      <th>4</th>\n",
              "      <td>0.197333</td>\n",
              "      <td>20150218T000000</td>\n",
              "      <td>0.057049</td>\n",
              "      <td>0.090909</td>\n",
              "      <td>0.25000</td>\n",
              "      <td>0.118197</td>\n",
              "      <td>0.006425</td>\n",
              "      <td>0.0</td>\n",
              "      <td>0.0</td>\n",
              "      <td>0.0</td>\n",
              "      <td>0.5</td>\n",
              "      <td>0.583333</td>\n",
              "      <td>0.162194</td>\n",
              "      <td>0.000000</td>\n",
              "      <td>0.756522</td>\n",
              "      <td>0.000000</td>\n",
              "      <td>0.368687</td>\n",
              "      <td>0.741354</td>\n",
              "      <td>0.391667</td>\n",
              "      <td>0.233043</td>\n",
              "      <td>0.040467</td>\n",
              "    </tr>\n",
              "  </tbody>\n",
              "</table>\n",
              "</div>"
            ],
            "text/plain": [
              "         id             date     price  ...      long  sqft_living15  sqft_lot15\n",
              "0  0.720103  20141013T000000  0.019266  ...  0.215000       0.153043    0.028583\n",
              "1  0.647853  20141209T000000  0.060721  ...  0.163333       0.213913    0.041339\n",
              "2  0.568795  20150225T000000  0.013770  ...  0.235000       0.393043    0.044052\n",
              "3  0.251157  20141209T000000  0.069377  ...  0.101667       0.156522    0.024415\n",
              "4  0.197333  20150218T000000  0.057049  ...  0.391667       0.233043    0.040467\n",
              "\n",
              "[5 rows x 21 columns]"
            ]
          },
          "metadata": {
            "tags": []
          },
          "execution_count": 9
        }
      ]
    },
    {
      "cell_type": "markdown",
      "metadata": {
        "id": "iyi7KrT040EZ"
      },
      "source": [
        "**Splitting** **Data**"
      ]
    },
    {
      "cell_type": "code",
      "metadata": {
        "id": "E_GsPXm44JF2"
      },
      "source": [
        "train_data,test_data=train_test_split(data_n,test_size=0.1)"
      ],
      "execution_count": 10,
      "outputs": []
    },
    {
      "cell_type": "code",
      "metadata": {
        "colab": {
          "base_uri": "https://localhost:8080/",
          "height": 232
        },
        "id": "8T_XadVB4I01",
        "outputId": "553815e3-3c02-4cde-b999-e0284e23acd9"
      },
      "source": [
        "print(len(train_data))\n",
        "train_data.head()"
      ],
      "execution_count": 11,
      "outputs": [
        {
          "output_type": "stream",
          "text": [
            "19060\n"
          ],
          "name": "stdout"
        },
        {
          "output_type": "execute_result",
          "data": {
            "text/html": [
              "<div>\n",
              "<style scoped>\n",
              "    .dataframe tbody tr th:only-of-type {\n",
              "        vertical-align: middle;\n",
              "    }\n",
              "\n",
              "    .dataframe tbody tr th {\n",
              "        vertical-align: top;\n",
              "    }\n",
              "\n",
              "    .dataframe thead th {\n",
              "        text-align: right;\n",
              "    }\n",
              "</style>\n",
              "<table border=\"1\" class=\"dataframe\">\n",
              "  <thead>\n",
              "    <tr style=\"text-align: right;\">\n",
              "      <th></th>\n",
              "      <th>id</th>\n",
              "      <th>date</th>\n",
              "      <th>price</th>\n",
              "      <th>bedrooms</th>\n",
              "      <th>bathrooms</th>\n",
              "      <th>sqft_living</th>\n",
              "      <th>sqft_lot</th>\n",
              "      <th>floors</th>\n",
              "      <th>waterfront</th>\n",
              "      <th>view</th>\n",
              "      <th>condition</th>\n",
              "      <th>grade</th>\n",
              "      <th>sqft_above</th>\n",
              "      <th>sqft_basement</th>\n",
              "      <th>yr_built</th>\n",
              "      <th>yr_renovated</th>\n",
              "      <th>zipcode</th>\n",
              "      <th>lat</th>\n",
              "      <th>long</th>\n",
              "      <th>sqft_living15</th>\n",
              "      <th>sqft_lot15</th>\n",
              "    </tr>\n",
              "  </thead>\n",
              "  <tbody>\n",
              "    <tr>\n",
              "      <th>9559</th>\n",
              "      <td>0.117083</td>\n",
              "      <td>20150304T000000</td>\n",
              "      <td>0.049574</td>\n",
              "      <td>0.090909</td>\n",
              "      <td>0.21875</td>\n",
              "      <td>0.107143</td>\n",
              "      <td>0.005669</td>\n",
              "      <td>0.0</td>\n",
              "      <td>0.0</td>\n",
              "      <td>0.0</td>\n",
              "      <td>0.50</td>\n",
              "      <td>0.500000</td>\n",
              "      <td>0.094516</td>\n",
              "      <td>0.093361</td>\n",
              "      <td>0.426087</td>\n",
              "      <td>0.0</td>\n",
              "      <td>0.626263</td>\n",
              "      <td>0.886601</td>\n",
              "      <td>0.167500</td>\n",
              "      <td>0.191304</td>\n",
              "      <td>0.040063</td>\n",
              "    </tr>\n",
              "    <tr>\n",
              "      <th>7848</th>\n",
              "      <td>0.264734</td>\n",
              "      <td>20150430T000000</td>\n",
              "      <td>0.013115</td>\n",
              "      <td>0.090909</td>\n",
              "      <td>0.12500</td>\n",
              "      <td>0.073129</td>\n",
              "      <td>0.007150</td>\n",
              "      <td>0.0</td>\n",
              "      <td>0.0</td>\n",
              "      <td>0.0</td>\n",
              "      <td>0.50</td>\n",
              "      <td>0.416667</td>\n",
              "      <td>0.100350</td>\n",
              "      <td>0.000000</td>\n",
              "      <td>0.373913</td>\n",
              "      <td>0.0</td>\n",
              "      <td>0.146465</td>\n",
              "      <td>0.370918</td>\n",
              "      <td>0.248333</td>\n",
              "      <td>0.179478</td>\n",
              "      <td>0.049580</td>\n",
              "    </tr>\n",
              "    <tr>\n",
              "      <th>7323</th>\n",
              "      <td>0.222396</td>\n",
              "      <td>20140502T000000</td>\n",
              "      <td>0.047213</td>\n",
              "      <td>0.121212</td>\n",
              "      <td>0.12500</td>\n",
              "      <td>0.098639</td>\n",
              "      <td>0.007043</td>\n",
              "      <td>0.0</td>\n",
              "      <td>0.0</td>\n",
              "      <td>0.0</td>\n",
              "      <td>0.75</td>\n",
              "      <td>0.500000</td>\n",
              "      <td>0.135356</td>\n",
              "      <td>0.000000</td>\n",
              "      <td>0.469565</td>\n",
              "      <td>0.0</td>\n",
              "      <td>0.025253</td>\n",
              "      <td>0.673476</td>\n",
              "      <td>0.316667</td>\n",
              "      <td>0.139130</td>\n",
              "      <td>0.049695</td>\n",
              "    </tr>\n",
              "    <tr>\n",
              "      <th>15735</th>\n",
              "      <td>0.257087</td>\n",
              "      <td>20140509T000000</td>\n",
              "      <td>0.020977</td>\n",
              "      <td>0.090909</td>\n",
              "      <td>0.12500</td>\n",
              "      <td>0.090986</td>\n",
              "      <td>0.008030</td>\n",
              "      <td>0.0</td>\n",
              "      <td>0.0</td>\n",
              "      <td>0.0</td>\n",
              "      <td>0.50</td>\n",
              "      <td>0.416667</td>\n",
              "      <td>0.124854</td>\n",
              "      <td>0.000000</td>\n",
              "      <td>0.669565</td>\n",
              "      <td>0.0</td>\n",
              "      <td>0.045455</td>\n",
              "      <td>0.299662</td>\n",
              "      <td>0.385000</td>\n",
              "      <td>0.210435</td>\n",
              "      <td>0.046700</td>\n",
              "    </tr>\n",
              "    <tr>\n",
              "      <th>20612</th>\n",
              "      <td>0.275083</td>\n",
              "      <td>20140802T000000</td>\n",
              "      <td>0.011646</td>\n",
              "      <td>0.060606</td>\n",
              "      <td>0.31250</td>\n",
              "      <td>0.060374</td>\n",
              "      <td>0.000423</td>\n",
              "      <td>0.4</td>\n",
              "      <td>0.0</td>\n",
              "      <td>0.0</td>\n",
              "      <td>0.50</td>\n",
              "      <td>0.500000</td>\n",
              "      <td>0.081680</td>\n",
              "      <td>0.002075</td>\n",
              "      <td>0.904348</td>\n",
              "      <td>0.0</td>\n",
              "      <td>0.590909</td>\n",
              "      <td>0.620878</td>\n",
              "      <td>0.203333</td>\n",
              "      <td>0.151304</td>\n",
              "      <td>0.001751</td>\n",
              "    </tr>\n",
              "  </tbody>\n",
              "</table>\n",
              "</div>"
            ],
            "text/plain": [
              "             id             date     price  ...      long  sqft_living15  sqft_lot15\n",
              "9559   0.117083  20150304T000000  0.049574  ...  0.167500       0.191304    0.040063\n",
              "7848   0.264734  20150430T000000  0.013115  ...  0.248333       0.179478    0.049580\n",
              "7323   0.222396  20140502T000000  0.047213  ...  0.316667       0.139130    0.049695\n",
              "15735  0.257087  20140509T000000  0.020977  ...  0.385000       0.210435    0.046700\n",
              "20612  0.275083  20140802T000000  0.011646  ...  0.203333       0.151304    0.001751\n",
              "\n",
              "[5 rows x 21 columns]"
            ]
          },
          "metadata": {
            "tags": []
          },
          "execution_count": 11
        }
      ]
    },
    {
      "cell_type": "code",
      "metadata": {
        "id": "BJDfQUCO5Hd8"
      },
      "source": [
        "x=np.array(train_data['sqft_living'])\n",
        "y=np.array(train_data['price'])"
      ],
      "execution_count": 12,
      "outputs": []
    },
    {
      "cell_type": "markdown",
      "metadata": {
        "id": "XbddtB995YEm"
      },
      "source": [
        "**Train Data**"
      ]
    },
    {
      "cell_type": "code",
      "metadata": {
        "colab": {
          "base_uri": "https://localhost:8080/"
        },
        "id": "TXKIq-U95P_l",
        "outputId": "2f92034e-7d80-49e7-a230-44267e063c75"
      },
      "source": [
        "#Initialise values\n",
        "bs=2\n",
        "m=1.0 \n",
        "c=-1.0  \n",
        "eta=0.1      #Learning rate\n",
        "max_iters=100 #Maximum iterations\n",
        "ns=len(x)\n",
        "nb=ns//bs\n",
        "ms=ns%bs\n",
        "err=[]\n",
        "k=nb\n",
        "if(ms>0):\n",
        "  error=0\n",
        "  gm=0\n",
        "  gc=0\n",
        "  for j in range(0,ms):\n",
        "    error+=((y[j]-(m*x[j])-c))**2\n",
        "    index=k*bs + j\n",
        "    gm=gm+((-1.0)*((y[index]-m*x[index]-c)*x[index]))\n",
        "    gc=gc+((-1.0)*(y[index]-m*x[index]-c))\n",
        "  gm=gm/ms\n",
        "  gc=gc/ms\n",
        "  #find change in m , c\n",
        "  dm=(-1.0)*eta*gm\n",
        "  dc=(-1.0)*eta*gc\n",
        "  #update variable \n",
        "  m=m+dm \n",
        "  c=c+dc\n",
        "  error=(1/(2*len(train_data['sqft_living'])))*(error)\n",
        "  err.append(error)\n",
        "else:\n",
        "  for i in range(0,max_iters):\n",
        "    for k in range(0,nb):\n",
        "      error=0\n",
        "      gm=0\n",
        "      gc=0\n",
        "      for j in range(0,bs):\n",
        "        error+=((y[j]-(m*x[j])-c))**2\n",
        "        index=k*bs + j\n",
        "        gm=gm+((-1.0)*((y[index]-m*x[index]-c)*x[index]))\n",
        "        gc=gc+((-1.0)*(y[index]-m*x[index]-c))\n",
        "      gm=gm/bs\n",
        "      gc=gc/bs\n",
        "      #find change in m,c\n",
        "      dm=(-1.0)*eta*gm\n",
        "      dc=(-1.0)*eta*gc\n",
        "      #update variable \n",
        "      m=m+dm \n",
        "      c=c+dc\n",
        "      error=(1/(2*len(train_data['sqft_living'])))*(error)\n",
        "      err.append(error)\n",
        "#print variable m, c\n",
        "m=round(m,2)\n",
        "c=round(c,2)\n",
        "print(\"Minimum value obtained at m = {} ,c ={} for given function \".format(m,c))"
      ],
      "execution_count": 13,
      "outputs": [
        {
          "output_type": "stream",
          "text": [
            "Minimum value obtained at m = 0.47 ,c =-0.01 for given function \n"
          ],
          "name": "stdout"
        }
      ]
    },
    {
      "cell_type": "markdown",
      "metadata": {
        "id": "WffQa5JN7dEy"
      },
      "source": [
        "**RMSE and MSE for Training data:**"
      ]
    },
    {
      "cell_type": "code",
      "metadata": {
        "colab": {
          "base_uri": "https://localhost:8080/"
        },
        "id": "G9UXOILG5W8F",
        "outputId": "66ba7830-ecfa-4bb8-9f7d-3d37f99eb767"
      },
      "source": [
        "train_data_pred = [i for i in x]\n",
        "for k in range(len(x)):\n",
        "    train_data_pred[k]=(m*x[k] + c)\n",
        "from sklearn.metrics import mean_squared_error\n",
        "mse = mean_squared_error(y,train_data_pred)\n",
        "print(\"Mean Square Error for training data (MSE) : \",mse)\n",
        "print(\"Root Mean Square Error for traning data (RMSE):\",mse**0.5)"
      ],
      "execution_count": 14,
      "outputs": [
        {
          "output_type": "stream",
          "text": [
            "Mean Square Error for training data (MSE) :  0.0011883306968668377\n",
            "Root Mean Square Error for traning data (RMSE): 0.034472172790046725\n"
          ],
          "name": "stdout"
        }
      ]
    },
    {
      "cell_type": "code",
      "metadata": {
        "colab": {
          "base_uri": "https://localhost:8080/",
          "height": 298
        },
        "id": "lMNTchAZ9o3E",
        "outputId": "c6804116-5b18-4035-c047-84a13eb4c8d0"
      },
      "source": [
        "plt.plot(np.array(train_data['sqft_living']),np.array(train_data_pred),'blue')\n",
        "plt.scatter(np.array(train_data['sqft_living']),np.array(train_data['price']),color='red')\n",
        "plt.title('predicted data vs actual data')"
      ],
      "execution_count": 15,
      "outputs": [
        {
          "output_type": "execute_result",
          "data": {
            "text/plain": [
              "Text(0.5, 1.0, 'predicted data vs actual data')"
            ]
          },
          "metadata": {
            "tags": []
          },
          "execution_count": 15
        },
        {
          "output_type": "display_data",
          "data": {
            "image/png": "[encoded data removed]",
            "text/plain": [
              "<Figure size 432x288 with 1 Axes>"
            ]
          },
          "metadata": {
            "tags": [],
            "needs_background": "light"
          }
        }
      ]
    },
    {
      "cell_type": "code",
      "metadata": {
        "colab": {
          "base_uri": "https://localhost:8080/",
          "height": 295
        },
        "id": "iEpzqDvT9vzY",
        "outputId": "c22f4a0a-72a4-4f20-ddfb-d21cc9aaa69f"
      },
      "source": [
        "iters = np.arange(max_iters*nb)\n",
        "plt.plot(iters,err,'green')\n",
        "plt.title(\"Error graph for training data\")\n",
        "plt.xlabel(\"iteration count\")\n",
        "plt.ylabel(\"error\")\n",
        "plt.grid()"
      ],
      "execution_count": 16,
      "outputs": [
        {
          "output_type": "display_data",
          "data": {
            "image/png": "[encoded data removed]",
            "text/plain": [
              "<Figure size 432x288 with 1 Axes>"
            ]
          },
          "metadata": {
            "tags": [],
            "needs_background": "light"
          }
        }
      ]
    },
    {
      "cell_type": "markdown",
      "metadata": {
        "id": "CkDtZfdf_h-k"
      },
      "source": [
        "**Test Data**"
      ]
    },
    {
      "cell_type": "code",
      "metadata": {
        "colab": {
          "base_uri": "https://localhost:8080/"
        },
        "id": "hKk4HjCM-GMO",
        "outputId": "f4bd30da-b8e9-4967-bb73-f58aa6724a18"
      },
      "source": [
        "x = np.array(test_data['sqft_living'])\n",
        "y = np.array(test_data['price'])\n",
        "\n",
        "test_data_pred = [i for i in x]\n",
        "for k in range(len(x)):\n",
        "    test_data_pred[k]=(m*x[k] + c)\n",
        "from sklearn.metrics import mean_squared_error\n",
        "mse = mean_squared_error(y,test_data_pred)\n",
        "print(\"Mean Square Error for testing data (MSE) : \",mse)\n",
        "print(\"Root Mean Square Error for testing data (RMSE):\",mse**0.5)"
      ],
      "execution_count": 17,
      "outputs": [
        {
          "output_type": "stream",
          "text": [
            "Mean Square Error for testing data (MSE) :  0.001216023882051443\n",
            "Root Mean Square Error for testing data (RMSE): 0.03487153397904146\n"
          ],
          "name": "stdout"
        }
      ]
    },
    {
      "cell_type": "code",
      "metadata": {
        "colab": {
          "base_uri": "https://localhost:8080/",
          "height": 265
        },
        "id": "c-B9wfuW-zg4",
        "outputId": "35a9916a-25ce-49c9-a3fa-ac6a86df04e9"
      },
      "source": [
        "plt.plot(test_data['price'],test_data_pred,'blue')\n",
        "plt.grid()"
      ],
      "execution_count": 18,
      "outputs": [
        {
          "output_type": "display_data",
          "data": {
            "image/png": "[encoded data removed]",
            "text/plain": [
              "<Figure size 432x288 with 1 Axes>"
            ]
          },
          "metadata": {
            "tags": [],
            "needs_background": "light"
          }
        }
      ]
    },
    {
      "cell_type": "code",
      "metadata": {
        "id": "dBtPugqf_bIN"
      },
      "source": [
        "x_min = data['sqft_living'].min()\n",
        "x_max = data['sqft_living'].max()\n",
        "y_min = data['price'].min()\n",
        "y_max = data['price'].max()"
      ],
      "execution_count": 19,
      "outputs": []
    },
    {
      "cell_type": "markdown",
      "metadata": {
        "id": "PqiNNQJSAsTd"
      },
      "source": [
        "**Predict Output**"
      ]
    },
    {
      "cell_type": "code",
      "metadata": {
        "colab": {
          "base_uri": "https://localhost:8080/"
        },
        "id": "MfJccjD5_3RX",
        "outputId": "854381de-7877-44da-d623-be0f119ae479"
      },
      "source": [
        "x1 = float(input(\"enter sqrt feet values sqft_living , sqft_lot, sqft_above, sqft_basement, sqft_living15, sqft_lot15 value :\"))\n",
        "x1 = (x1 - x_min)/(x_max - x_min)\n",
        "y = m*x1+c\n",
        "y = y*(y_max - y_min) + y_min\n",
        "print(f\"price  is : {y}\")"
      ],
      "execution_count": 20,
      "outputs": [
        {
          "output_type": "stream",
          "text": [
            "enter sqrt feet values sqft_living , sqft_lot, sqft_above, sqft_basement, sqft_living15, sqft_lot15 value :2000\n",
            "price  is : 519856.5051020408\n"
          ],
          "name": "stdout"
        }
      ]
    }
  ]
}