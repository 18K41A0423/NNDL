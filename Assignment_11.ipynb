{
  "nbformat": 4,
  "nbformat_minor": 0,
  "metadata": {
    "colab": {
      "name": "Assignment 11.ipynb",
      "provenance": []
    },
    "kernelspec": {
      "name": "python3",
      "display_name": "Python 3"
    },
    "language_info": {
      "name": "python"
    }
  },
  "cells": [
    {
      "cell_type": "markdown",
      "metadata": {
        "id": "HNdEhZH-mqIU"
      },
      "source": [
        "## **Nesterov Accelerated Gradient (NAG) Optimizer**"
      ]
    },
    {
      "cell_type": "code",
      "metadata": {
        "id": "iqF9X2m1eX84",
        "colab": {
          "base_uri": "https://localhost:8080/"
        },
        "outputId": "ee5bc0ee-4c50-490e-d808-890d1b456367"
      },
      "source": [
        "x = [0.2,0.4,0.6,0.8]\n",
        "y = [3.4,3.8,4.2,4.6]\n",
        "#step 1 initialise values \n",
        "m = 1.0 \n",
        "c = -1.0  #variable m, c\n",
        "max_iters=100 #Maximum iterations\n",
        "ns = len(x)\n",
        "gama = 0.9\n",
        "vm =0\n",
        "vc=0\n",
        "eta= 0.1  #learning rate\n",
        "for i in range(0,max_iters):\n",
        "    for j in range(0,ns):\n",
        "        gm=((-1.0)*(y[j]-(m+(gama*vm))*x[j]-(c+(gama*vc)))*(x[j]))\n",
        "        gc=((-1.0)*(y[j]-(m+(gama*vm))*x[j]-(c+(gama*vc))))\n",
        "        #step3 find change in x , y\n",
        "        vm = (gama * vm)-(eta*gm)\n",
        "        vc = (gama * vc)-(eta*gc)\n",
        "        #step4 update variable \n",
        "        m = m + vm\n",
        "        m = round(m, 2) \n",
        "        c = c + vc\n",
        "        c = round(c, 2)\n",
        "#step7 print variable m, c\n",
        "print(m, c)\n",
        "print(f'minimum value obtained at m = {m} ,c ={c} for given function')"
      ],
      "execution_count": 1,
      "outputs": [
        {
          "output_type": "stream",
          "text": [
            "1.94 3.03\n",
            "minimum value obtained at m = 1.94 ,c =3.03 for given function\n"
          ],
          "name": "stdout"
        }
      ]
    },
    {
      "cell_type": "code",
      "metadata": {
        "colab": {
          "base_uri": "https://localhost:8080/",
          "height": 295
        },
        "id": "5MbQaQezsRlY",
        "outputId": "51e97723-69c9-48de-809e-d37060cb13ff"
      },
      "source": [
        "import matplotlib.pyplot as plt\n",
        "import numpy as np\n",
        "x = np.linspace(-5,5,100)\n",
        "y = m*x+c\n",
        "plt.plot(x, y, '-r', label='y='+str(m)+'x+'+str(c))\n",
        "plt.title('Graph of '+'y='+str(m)+'x+'+str(c))\n",
        "plt.xlabel('x')\n",
        "plt.ylabel('y')\n",
        "plt.legend(loc='upper left')\n",
        "plt.grid()\n",
        "plt.show()"
      ],
      "execution_count": 2,
      "outputs": [
        {
          "output_type": "display_data",
          "data": {
            "image/png": "[encoded data removed]",
            "text/plain": [
              "<Figure size 432x288 with 1 Axes>"
            ]
          },
          "metadata": {
            "tags": [],
            "needs_background": "light"
          }
        }
      ]
    },
    {
      "cell_type": "code",
      "metadata": {
        "colab": {
          "base_uri": "https://localhost:8080/"
        },
        "id": "vhNBgKgHuFZT",
        "outputId": "992d1770-1dc3-4295-d44d-7ec88dad4166"
      },
      "source": [
        "data_pred = []\n",
        "for i in x:\n",
        "    data_pred.append(m*i+c)\n",
        "\n",
        "from sklearn.metrics import mean_squared_error\n",
        "mse = mean_squared_error(y,data_pred)\n",
        "print(f\"mean square error : {mse}\")"
      ],
      "execution_count": 3,
      "outputs": [
        {
          "output_type": "stream",
          "text": [
            "mean square error : 0.0\n"
          ],
          "name": "stdout"
        }
      ]
    }
  ]
}