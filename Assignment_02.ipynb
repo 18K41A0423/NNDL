{
  "nbformat": 4,
  "nbformat_minor": 0,
  "metadata": {
    "colab": {
      "name": "Assignment 02.ipynb",
      "provenance": [],
      "collapsed_sections": []
    },
    "kernelspec": {
      "name": "python3",
      "display_name": "Python 3"
    },
    "language_info": {
      "name": "python"
    }
  },
  "cells": [
    {
      "cell_type": "markdown",
      "metadata": {
        "id": "E0ULG8q457ub"
      },
      "source": [
        "Find the global minimum point and value for the function f(x,y)= x^2 + y^2 +10. Do manual calculations for two iterations. Find the optimal solution using python programming."
      ]
    },
    {
      "cell_type": "code",
      "metadata": {
        "id": "ZIbYkducuaTo",
        "colab": {
          "base_uri": "https://localhost:8080/"
        },
        "outputId": "b8f8aeb3-275e-48b2-e4a9-ea0da4e36319"
      },
      "source": [
        "# initialise values\n",
        "import random\n",
        "x=random.randint(-10,11)    #random x variable\n",
        "y=random.randint(-10,11)    #random y variable\n",
        "n=0.01 #Learning rate\n",
        "max_iters=1000 #Maximum iterations\n",
        "#Given Function\n",
        "f=(x**4)+(3*(x**2))+10\n",
        "#Function to find derivative\n",
        "def derivative(x,y):\n",
        "  x_derivative=2*x #differentiation with respect to x\n",
        "  y_derivative=2*y #differentiation with respect to y\n",
        "  return x_derivative,y_derivative\n",
        "for i in range(max_iters):\n",
        "  fx,fy=derivative(x,y)\n",
        "  dx=-(n)*fx\n",
        "  dy=-(n)*fy\n",
        "  x=x+dx#Grad Descent\n",
        "  y=y+dy#Grad Descent\n",
        "print(\"The local minimum occurs at x = %.2f\"%(x),\"y = %.2f\"%(y))\n",
        "print(\"Minimum value of f(x)=%.2f\"%((x**2)+(y**2)+10))"
      ],
      "execution_count": null,
      "outputs": [
        {
          "output_type": "stream",
          "text": [
            "The local minimum occurs at x = -0.00 y = 0.00\n",
            "Minimum value of f(x)=10.00\n"
          ],
          "name": "stdout"
        }
      ]
    }
  ]
}