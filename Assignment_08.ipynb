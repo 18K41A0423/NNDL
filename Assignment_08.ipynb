{
  "nbformat": 4,
  "nbformat_minor": 0,
  "metadata": {
    "colab": {
      "name": "Assignment 08.ipynb",
      "provenance": [],
      "collapsed_sections": []
    },
    "kernelspec": {
      "name": "python3",
      "display_name": "Python 3"
    },
    "language_info": {
      "name": "python"
    }
  },
  "cells": [
    {
      "cell_type": "code",
      "metadata": {
        "id": "CZAGVguMSzZ_"
      },
      "source": [
        "import numpy as np\n",
        "import matplotlib.pyplot as plt\n",
        "import pandas as pd\n",
        "from sklearn.model_selection import train_test_split\n",
        "import seaborn as sns"
      ],
      "execution_count": 1,
      "outputs": []
    },
    {
      "cell_type": "code",
      "metadata": {
        "colab": {
          "base_uri": "https://localhost:8080/",
          "height": 212
        },
        "id": "w4Elpyk6XUdT",
        "outputId": "cb88146f-279f-4dbb-f3ab-43a999cd4d0e"
      },
      "source": [
        "df = pd.read_excel(\"/pressure_weight.xls\")\n",
        "df.head()"
      ],
      "execution_count": 2,
      "outputs": [
        {
          "output_type": "stream",
          "text": [
            "*** No CODEPAGE record, no encoding_override: will use 'ascii'\n"
          ],
          "name": "stdout"
        },
        {
          "output_type": "execute_result",
          "data": {
            "text/html": [
              "<div>\n",
              "<style scoped>\n",
              "    .dataframe tbody tr th:only-of-type {\n",
              "        vertical-align: middle;\n",
              "    }\n",
              "\n",
              "    .dataframe tbody tr th {\n",
              "        vertical-align: top;\n",
              "    }\n",
              "\n",
              "    .dataframe thead th {\n",
              "        text-align: right;\n",
              "    }\n",
              "</style>\n",
              "<table border=\"1\" class=\"dataframe\">\n",
              "  <thead>\n",
              "    <tr style=\"text-align: right;\">\n",
              "      <th></th>\n",
              "      <th>X</th>\n",
              "      <th>Y</th>\n",
              "    </tr>\n",
              "  </thead>\n",
              "  <tbody>\n",
              "    <tr>\n",
              "      <th>0</th>\n",
              "      <td>75.1</td>\n",
              "      <td>577.8</td>\n",
              "    </tr>\n",
              "    <tr>\n",
              "      <th>1</th>\n",
              "      <td>74.3</td>\n",
              "      <td>577.0</td>\n",
              "    </tr>\n",
              "    <tr>\n",
              "      <th>2</th>\n",
              "      <td>88.7</td>\n",
              "      <td>570.9</td>\n",
              "    </tr>\n",
              "    <tr>\n",
              "      <th>3</th>\n",
              "      <td>114.6</td>\n",
              "      <td>578.6</td>\n",
              "    </tr>\n",
              "    <tr>\n",
              "      <th>4</th>\n",
              "      <td>98.5</td>\n",
              "      <td>572.4</td>\n",
              "    </tr>\n",
              "  </tbody>\n",
              "</table>\n",
              "</div>"
            ],
            "text/plain": [
              "       X      Y\n",
              "0   75.1  577.8\n",
              "1   74.3  577.0\n",
              "2   88.7  570.9\n",
              "3  114.6  578.6\n",
              "4   98.5  572.4"
            ]
          },
          "metadata": {
            "tags": []
          },
          "execution_count": 2
        }
      ]
    },
    {
      "cell_type": "code",
      "metadata": {
        "colab": {
          "base_uri": "https://localhost:8080/"
        },
        "id": "foz0h15uXhOw",
        "outputId": "4a9cc74b-0211-4116-aae0-38d5998ed606"
      },
      "source": [
        "df.isnull().sum()"
      ],
      "execution_count": 3,
      "outputs": [
        {
          "output_type": "execute_result",
          "data": {
            "text/plain": [
              "X    0\n",
              "Y    0\n",
              "dtype: int64"
            ]
          },
          "metadata": {
            "tags": []
          },
          "execution_count": 3
        }
      ]
    },
    {
      "cell_type": "code",
      "metadata": {
        "colab": {
          "base_uri": "https://localhost:8080/"
        },
        "id": "jOuV6DXIX1Oe",
        "outputId": "7e44d91b-f6ae-44f4-a715-88946e51a350"
      },
      "source": [
        "df.info()"
      ],
      "execution_count": 4,
      "outputs": [
        {
          "output_type": "stream",
          "text": [
            "<class 'pandas.core.frame.DataFrame'>\n",
            "RangeIndex: 30 entries, 0 to 29\n",
            "Data columns (total 2 columns):\n",
            " #   Column  Non-Null Count  Dtype  \n",
            "---  ------  --------------  -----  \n",
            " 0   X       30 non-null     float64\n",
            " 1   Y       30 non-null     float64\n",
            "dtypes: float64(2)\n",
            "memory usage: 608.0 bytes\n"
          ],
          "name": "stdout"
        }
      ]
    },
    {
      "cell_type": "markdown",
      "metadata": {
        "id": "lyIsB8v9ao6G"
      },
      "source": [
        "**Outliers-**\n"
      ]
    },
    {
      "cell_type": "code",
      "metadata": {
        "id": "QPKGtQNTaoLN"
      },
      "source": [
        "from scipy import stats"
      ],
      "execution_count": 5,
      "outputs": []
    },
    {
      "cell_type": "code",
      "metadata": {
        "colab": {
          "base_uri": "https://localhost:8080/"
        },
        "id": "e4oEOUMzYUf8",
        "outputId": "3b3c3472-7bf7-4674-9456-670fb00cd969"
      },
      "source": [
        "z = np.abs(stats.zscore(df))\n",
        "print(z)"
      ],
      "execution_count": 6,
      "outputs": [
        {
          "output_type": "stream",
          "text": [
            "[[0.90855142 1.61656054]\n",
            " [0.95645395 1.59597943]\n",
            " [0.09420832 1.43904846]\n",
            " [1.45663625 1.63714165]\n",
            " [0.49259774 1.47763804]\n",
            " [1.30095302 2.6694559 ]\n",
            " [1.46861189 0.430574  ]\n",
            " [1.68097979 1.25896373]\n",
            " [1.00156217 2.78522465]\n",
            " [0.01357238 0.20229517]\n",
            " [0.98639304 0.47756754]\n",
            " [1.52849006 0.25117531]\n",
            " [0.54648809 0.22030365]\n",
            " [0.16326781 0.12254337]\n",
            " [0.98040522 0.28461962]\n",
            " [1.4714062  0.22544892]\n",
            " [1.44146712 0.22287629]\n",
            " [0.74089254 0.12254337]\n",
            " [1.16922104 0.16370559]\n",
            " [0.9057571  0.10453489]\n",
            " [0.10019614 0.24603004]\n",
            " [0.04031797 0.05565476]\n",
            " [0.98639304 0.31291865]\n",
            " [0.66025661 0.56503726]\n",
            " [1.77997837 0.10710753]\n",
            " [0.86064888 0.05565476]\n",
            " [0.84268543 0.04021892]\n",
            " [0.50137987 0.12768865]\n",
            " [0.35767226 0.27432906]\n",
            " [0.46265865 0.18102803]]\n"
          ],
          "name": "stdout"
        }
      ]
    },
    {
      "cell_type": "code",
      "metadata": {
        "colab": {
          "base_uri": "https://localhost:8080/",
          "height": 296
        },
        "id": "PcMUhzkscCEO",
        "outputId": "5ed7e99e-5624-42ed-a9e2-4ca75658eed9"
      },
      "source": [
        "sns.boxplot(x=df['X'])"
      ],
      "execution_count": 7,
      "outputs": [
        {
          "output_type": "execute_result",
          "data": {
            "text/plain": [
              "<matplotlib.axes._subplots.AxesSubplot at 0x7f7e5557f910>"
            ]
          },
          "metadata": {
            "tags": []
          },
          "execution_count": 7
        },
        {
          "output_type": "display_data",
          "data": {
            "image/png": "[encoded data removed]",
            "text/plain": [
              "<Figure size 432x288 with 1 Axes>"
            ]
          },
          "metadata": {
            "tags": [],
            "needs_background": "light"
          }
        }
      ]
    },
    {
      "cell_type": "code",
      "metadata": {
        "colab": {
          "base_uri": "https://localhost:8080/",
          "height": 269
        },
        "id": "JXRAC1w2cF0Z",
        "outputId": "38d4c3ca-afc4-4325-c956-5975123ecd5f"
      },
      "source": [
        "sns.boxplot(y=df['Y'])"
      ],
      "execution_count": 8,
      "outputs": [
        {
          "output_type": "execute_result",
          "data": {
            "text/plain": [
              "<matplotlib.axes._subplots.AxesSubplot at 0x7f7e54c39a50>"
            ]
          },
          "metadata": {
            "tags": []
          },
          "execution_count": 8
        },
        {
          "output_type": "display_data",
          "data": {
            "image/png": "[encoded data removed]",
            "text/plain": [
              "<Figure size 432x288 with 1 Axes>"
            ]
          },
          "metadata": {
            "tags": [],
            "needs_background": "light"
          }
        }
      ]
    },
    {
      "cell_type": "code",
      "metadata": {
        "colab": {
          "base_uri": "https://localhost:8080/",
          "height": 195
        },
        "id": "h7OXoNlPcnsU",
        "outputId": "5e2a04c5-4df5-4f5d-db14-7ffb948f9990"
      },
      "source": [
        "f_data = df[(z < 3).all(axis=1)]\n",
        "f_data.head()"
      ],
      "execution_count": 9,
      "outputs": [
        {
          "output_type": "execute_result",
          "data": {
            "text/html": [
              "<div>\n",
              "<style scoped>\n",
              "    .dataframe tbody tr th:only-of-type {\n",
              "        vertical-align: middle;\n",
              "    }\n",
              "\n",
              "    .dataframe tbody tr th {\n",
              "        vertical-align: top;\n",
              "    }\n",
              "\n",
              "    .dataframe thead th {\n",
              "        text-align: right;\n",
              "    }\n",
              "</style>\n",
              "<table border=\"1\" class=\"dataframe\">\n",
              "  <thead>\n",
              "    <tr style=\"text-align: right;\">\n",
              "      <th></th>\n",
              "      <th>X</th>\n",
              "      <th>Y</th>\n",
              "    </tr>\n",
              "  </thead>\n",
              "  <tbody>\n",
              "    <tr>\n",
              "      <th>0</th>\n",
              "      <td>75.1</td>\n",
              "      <td>577.8</td>\n",
              "    </tr>\n",
              "    <tr>\n",
              "      <th>1</th>\n",
              "      <td>74.3</td>\n",
              "      <td>577.0</td>\n",
              "    </tr>\n",
              "    <tr>\n",
              "      <th>2</th>\n",
              "      <td>88.7</td>\n",
              "      <td>570.9</td>\n",
              "    </tr>\n",
              "    <tr>\n",
              "      <th>3</th>\n",
              "      <td>114.6</td>\n",
              "      <td>578.6</td>\n",
              "    </tr>\n",
              "    <tr>\n",
              "      <th>4</th>\n",
              "      <td>98.5</td>\n",
              "      <td>572.4</td>\n",
              "    </tr>\n",
              "  </tbody>\n",
              "</table>\n",
              "</div>"
            ],
            "text/plain": [
              "       X      Y\n",
              "0   75.1  577.8\n",
              "1   74.3  577.0\n",
              "2   88.7  570.9\n",
              "3  114.6  578.6\n",
              "4   98.5  572.4"
            ]
          },
          "metadata": {
            "tags": []
          },
          "execution_count": 9
        }
      ]
    },
    {
      "cell_type": "code",
      "metadata": {
        "colab": {
          "base_uri": "https://localhost:8080/"
        },
        "id": "-KgA7gdhc6NM",
        "outputId": "1804d80e-c9ad-4ef4-b3cb-7daf9696b357"
      },
      "source": [
        "if(len(df) == len(f_data)):\n",
        "    print('No outliners')"
      ],
      "execution_count": 10,
      "outputs": [
        {
          "output_type": "stream",
          "text": [
            "No outliners\n"
          ],
          "name": "stdout"
        }
      ]
    },
    {
      "cell_type": "markdown",
      "metadata": {
        "id": "I4gLu3y-iJlv"
      },
      "source": [
        "**Normalization**"
      ]
    },
    {
      "cell_type": "markdown",
      "metadata": {
        "id": "bHiiNjpkiOKS"
      },
      "source": [
        "Method-1 Using inbuilt library"
      ]
    },
    {
      "cell_type": "code",
      "metadata": {
        "colab": {
          "base_uri": "https://localhost:8080/",
          "height": 195
        },
        "id": "DY40mVkYc8kA",
        "outputId": "6ec9fafe-c178-43ee-c019-16ccf6a8f9cd"
      },
      "source": [
        "from sklearn.preprocessing import MinMaxScaler\n",
        "scaler=MinMaxScaler()\n",
        "scaler.fit(df)\n",
        "scaled_data=scaler.transform(df)\n",
        "data=pd.DataFrame(scaled_data,columns=['X','Y'])\n",
        "data.head()"
      ],
      "execution_count": 11,
      "outputs": [
        {
          "output_type": "execute_result",
          "data": {
            "text/html": [
              "<div>\n",
              "<style scoped>\n",
              "    .dataframe tbody tr th:only-of-type {\n",
              "        vertical-align: middle;\n",
              "    }\n",
              "\n",
              "    .dataframe tbody tr th {\n",
              "        vertical-align: top;\n",
              "    }\n",
              "\n",
              "    .dataframe thead th {\n",
              "        text-align: right;\n",
              "    }\n",
              "</style>\n",
              "<table border=\"1\" class=\"dataframe\">\n",
              "  <thead>\n",
              "    <tr style=\"text-align: right;\">\n",
              "      <th></th>\n",
              "      <th>X</th>\n",
              "      <th>Y</th>\n",
              "    </tr>\n",
              "  </thead>\n",
              "  <tbody>\n",
              "    <tr>\n",
              "      <th>0</th>\n",
              "      <td>0.223183</td>\n",
              "      <td>0.995346</td>\n",
              "    </tr>\n",
              "    <tr>\n",
              "      <th>1</th>\n",
              "      <td>0.209343</td>\n",
              "      <td>0.990692</td>\n",
              "    </tr>\n",
              "    <tr>\n",
              "      <th>2</th>\n",
              "      <td>0.458478</td>\n",
              "      <td>0.955207</td>\n",
              "    </tr>\n",
              "    <tr>\n",
              "      <th>3</th>\n",
              "      <td>0.906574</td>\n",
              "      <td>1.000000</td>\n",
              "    </tr>\n",
              "    <tr>\n",
              "      <th>4</th>\n",
              "      <td>0.628028</td>\n",
              "      <td>0.963933</td>\n",
              "    </tr>\n",
              "  </tbody>\n",
              "</table>\n",
              "</div>"
            ],
            "text/plain": [
              "          X         Y\n",
              "0  0.223183  0.995346\n",
              "1  0.209343  0.990692\n",
              "2  0.458478  0.955207\n",
              "3  0.906574  1.000000\n",
              "4  0.628028  0.963933"
            ]
          },
          "metadata": {
            "tags": []
          },
          "execution_count": 11
        }
      ]
    },
    {
      "cell_type": "markdown",
      "metadata": {
        "id": "tJzh9npRiZcL"
      },
      "source": [
        "method-2 Using formula"
      ]
    },
    {
      "cell_type": "code",
      "metadata": {
        "colab": {
          "base_uri": "https://localhost:8080/",
          "height": 195
        },
        "id": "qt-vteBjeXAb",
        "outputId": "1c892fcf-eb10-4f58-cfed-f7c6994c92e5"
      },
      "source": [
        "data = df.copy()\n",
        "data = (data - data.min())/(data.max() - data.min())\n",
        "data.head()"
      ],
      "execution_count": 12,
      "outputs": [
        {
          "output_type": "execute_result",
          "data": {
            "text/html": [
              "<div>\n",
              "<style scoped>\n",
              "    .dataframe tbody tr th:only-of-type {\n",
              "        vertical-align: middle;\n",
              "    }\n",
              "\n",
              "    .dataframe tbody tr th {\n",
              "        vertical-align: top;\n",
              "    }\n",
              "\n",
              "    .dataframe thead th {\n",
              "        text-align: right;\n",
              "    }\n",
              "</style>\n",
              "<table border=\"1\" class=\"dataframe\">\n",
              "  <thead>\n",
              "    <tr style=\"text-align: right;\">\n",
              "      <th></th>\n",
              "      <th>X</th>\n",
              "      <th>Y</th>\n",
              "    </tr>\n",
              "  </thead>\n",
              "  <tbody>\n",
              "    <tr>\n",
              "      <th>0</th>\n",
              "      <td>0.223183</td>\n",
              "      <td>0.995346</td>\n",
              "    </tr>\n",
              "    <tr>\n",
              "      <th>1</th>\n",
              "      <td>0.209343</td>\n",
              "      <td>0.990692</td>\n",
              "    </tr>\n",
              "    <tr>\n",
              "      <th>2</th>\n",
              "      <td>0.458478</td>\n",
              "      <td>0.955207</td>\n",
              "    </tr>\n",
              "    <tr>\n",
              "      <th>3</th>\n",
              "      <td>0.906574</td>\n",
              "      <td>1.000000</td>\n",
              "    </tr>\n",
              "    <tr>\n",
              "      <th>4</th>\n",
              "      <td>0.628028</td>\n",
              "      <td>0.963933</td>\n",
              "    </tr>\n",
              "  </tbody>\n",
              "</table>\n",
              "</div>"
            ],
            "text/plain": [
              "          X         Y\n",
              "0  0.223183  0.995346\n",
              "1  0.209343  0.990692\n",
              "2  0.458478  0.955207\n",
              "3  0.906574  1.000000\n",
              "4  0.628028  0.963933"
            ]
          },
          "metadata": {
            "tags": []
          },
          "execution_count": 12
        }
      ]
    },
    {
      "cell_type": "markdown",
      "metadata": {
        "id": "bd7jCL2DjJ0G"
      },
      "source": [
        "Spliting of data"
      ]
    },
    {
      "cell_type": "code",
      "metadata": {
        "id": "4rpJS2UjjJY8"
      },
      "source": [
        "train_data,test_data = train_test_split(data,test_size=0.1,random_state=2)\n"
      ],
      "execution_count": 13,
      "outputs": []
    },
    {
      "cell_type": "code",
      "metadata": {
        "colab": {
          "base_uri": "https://localhost:8080/",
          "height": 212
        },
        "id": "4LyqJ3oVkf5w",
        "outputId": "6ad0e404-43eb-49f1-df2d-8c1e64f57777"
      },
      "source": [
        "print(len(train_data))\n",
        "train_data.head()"
      ],
      "execution_count": 14,
      "outputs": [
        {
          "output_type": "stream",
          "text": [
            "27\n"
          ],
          "name": "stdout"
        },
        {
          "output_type": "execute_result",
          "data": {
            "text/html": [
              "<div>\n",
              "<style scoped>\n",
              "    .dataframe tbody tr th:only-of-type {\n",
              "        vertical-align: middle;\n",
              "    }\n",
              "\n",
              "    .dataframe tbody tr th {\n",
              "        vertical-align: top;\n",
              "    }\n",
              "\n",
              "    .dataframe thead th {\n",
              "        text-align: right;\n",
              "    }\n",
              "</style>\n",
              "<table border=\"1\" class=\"dataframe\">\n",
              "  <thead>\n",
              "    <tr style=\"text-align: right;\">\n",
              "      <th></th>\n",
              "      <th>X</th>\n",
              "      <th>Y</th>\n",
              "    </tr>\n",
              "  </thead>\n",
              "  <tbody>\n",
              "    <tr>\n",
              "      <th>9</th>\n",
              "      <td>0.489619</td>\n",
              "      <td>0.584061</td>\n",
              "    </tr>\n",
              "    <tr>\n",
              "      <th>21</th>\n",
              "      <td>0.474048</td>\n",
              "      <td>0.617219</td>\n",
              "    </tr>\n",
              "    <tr>\n",
              "      <th>19</th>\n",
              "      <td>0.747405</td>\n",
              "      <td>0.606166</td>\n",
              "    </tr>\n",
              "    <tr>\n",
              "      <th>23</th>\n",
              "      <td>0.676471</td>\n",
              "      <td>0.502036</td>\n",
              "    </tr>\n",
              "    <tr>\n",
              "      <th>6</th>\n",
              "      <td>0.910035</td>\n",
              "      <td>0.727167</td>\n",
              "    </tr>\n",
              "  </tbody>\n",
              "</table>\n",
              "</div>"
            ],
            "text/plain": [
              "           X         Y\n",
              "9   0.489619  0.584061\n",
              "21  0.474048  0.617219\n",
              "19  0.747405  0.606166\n",
              "23  0.676471  0.502036\n",
              "6   0.910035  0.727167"
            ]
          },
          "metadata": {
            "tags": []
          },
          "execution_count": 14
        }
      ]
    },
    {
      "cell_type": "code",
      "metadata": {
        "id": "2vNEX40-k1-F"
      },
      "source": [
        "xa = np.array(train_data['X'])\n",
        "ya = np.array(train_data['Y'])"
      ],
      "execution_count": 15,
      "outputs": []
    },
    {
      "cell_type": "code",
      "metadata": {
        "colab": {
          "base_uri": "https://localhost:8080/"
        },
        "id": "A2xUZGddxGOz",
        "outputId": "f6c2fe14-cbca-416b-80d6-43e4e273f9b2"
      },
      "source": [
        "#Initialise values\n",
        "eta=0.1 #Learning rate\n",
        "max_iters=100 #Maximum iterations\n",
        "err=[]\n",
        "ns=len(xa)#Batch Size\n",
        "m=-1.0\n",
        "c=1.0\n",
        "for i in range(0,max_iters):\n",
        "  error=0\n",
        "  gradm=0\n",
        "  gradc=0\n",
        "  for j in range(0,ns):\n",
        "    error +=  ((ya[j] - (m * xa[j]) - c))**2\n",
        "    #Partial differentiation of error function with respect to m and c\n",
        "    gradm = gradm+((-1.0)*((ya[j] - m*xa[j] -c)*xa[j]))\n",
        "    gradc = gradc+((-1.0)*(ya[j] - m*xa[j] -c))\n",
        "  gradm = gradm/ns\n",
        "  gradc = gradc/ns\n",
        "  dm = (-1.0)*eta*gradm\n",
        "  dc = (-1.0)*eta*gradc  \n",
        "  #update variable \n",
        "  m = m + dm\n",
        "  m = round(m, 2) \n",
        "  c = c + dc\n",
        "  c = round(c, 2)\n",
        "  error = (1/(2*len(train_data['X'])))*(error)\n",
        "  err.append(error)\n",
        "print(m, c)\n",
        "print(f'minimum value obtained at m = {m} ,c ={c} for given function')\n",
        "print(err)"
      ],
      "execution_count": 16,
      "outputs": [
        {
          "output_type": "stream",
          "text": [
            "-0.82 1.05\n",
            "minimum value obtained at m = -0.82 ,c =1.05 for given function\n",
            "[0.06267445781002637, 0.06021350691423019, 0.05799077445052495, 0.056006260418910644, 0.05425996481938729, 0.05275188765195484, 0.05183664671661672, 0.05095639468626458, 0.0501111315608984, 0.04930085734051819, 0.04852557202512396, 0.047785275614715704, 0.047079968109293414, 0.04640964950885709, 0.04577431981340673, 0.04517397902294236, 0.04460862713746395, 0.04407826415697153, 0.043582890081465056, 0.043582890081465056, 0.043582890081465056, 0.043582890081465056, 0.043582890081465056, 0.043582890081465056, 0.043582890081465056, 0.043582890081465056, 0.043582890081465056, 0.043582890081465056, 0.043582890081465056, 0.043582890081465056, 0.043582890081465056, 0.043582890081465056, 0.043582890081465056, 0.043582890081465056, 0.043582890081465056, 0.043582890081465056, 0.043582890081465056, 0.043582890081465056, 0.043582890081465056, 0.043582890081465056, 0.043582890081465056, 0.043582890081465056, 0.043582890081465056, 0.043582890081465056, 0.043582890081465056, 0.043582890081465056, 0.043582890081465056, 0.043582890081465056, 0.043582890081465056, 0.043582890081465056, 0.043582890081465056, 0.043582890081465056, 0.043582890081465056, 0.043582890081465056, 0.043582890081465056, 0.043582890081465056, 0.043582890081465056, 0.043582890081465056, 0.043582890081465056, 0.043582890081465056, 0.043582890081465056, 0.043582890081465056, 0.043582890081465056, 0.043582890081465056, 0.043582890081465056, 0.043582890081465056, 0.043582890081465056, 0.043582890081465056, 0.043582890081465056, 0.043582890081465056, 0.043582890081465056, 0.043582890081465056, 0.043582890081465056, 0.043582890081465056, 0.043582890081465056, 0.043582890081465056, 0.043582890081465056, 0.043582890081465056, 0.043582890081465056, 0.043582890081465056, 0.043582890081465056, 0.043582890081465056, 0.043582890081465056, 0.043582890081465056, 0.043582890081465056, 0.043582890081465056, 0.043582890081465056, 0.043582890081465056, 0.043582890081465056, 0.043582890081465056, 0.043582890081465056, 0.043582890081465056, 0.043582890081465056, 0.043582890081465056, 0.043582890081465056, 0.043582890081465056, 0.043582890081465056, 0.043582890081465056, 0.043582890081465056, 0.043582890081465056]\n"
          ],
          "name": "stdout"
        }
      ]
    },
    {
      "cell_type": "markdown",
      "metadata": {
        "id": "TH8tWfuBVlIK"
      },
      "source": [
        "**MSE for Training** **data**"
      ]
    },
    {
      "cell_type": "code",
      "metadata": {
        "colab": {
          "base_uri": "https://localhost:8080/"
        },
        "id": "o1InmX3TVREx",
        "outputId": "6ae2c937-3464-459d-bbbb-4a3a06320726"
      },
      "source": [
        "train_data_pred =  m*train_data['X'] + c\n",
        "from sklearn.metrics import mean_squared_error\n",
        "mse = mean_squared_error(train_data['Y'],train_data_pred)\n",
        "print(\"Mean Square Error(MSE) of training data : \",mse)\n",
        "print(\"Root Mean Square Error(RMSE) training data:\",mse**0.5)"
      ],
      "execution_count": 17,
      "outputs": [
        {
          "output_type": "stream",
          "text": [
            "Mean Square Error(MSE) of training data :  0.08716578016293013\n",
            "Root Mean Square Error(RMSE) training data: 0.29523851402371293\n"
          ],
          "name": "stdout"
        }
      ]
    },
    {
      "cell_type": "code",
      "metadata": {
        "colab": {
          "base_uri": "https://localhost:8080/",
          "height": 298
        },
        "id": "Bs16dIEQWQ2j",
        "outputId": "63ec32d8-1753-444d-cb12-69cffc32721d"
      },
      "source": [
        "plt.plot(np.array(train_data['X']),np.array(train_data_pred),'red')\n",
        "plt.scatter(np.array(train_data['X']),np.array(train_data['Y']),color='blue')\n",
        "plt.title('predicted data vs actual data')"
      ],
      "execution_count": 18,
      "outputs": [
        {
          "output_type": "execute_result",
          "data": {
            "text/plain": [
              "Text(0.5, 1.0, 'predicted data vs actual data')"
            ]
          },
          "metadata": {
            "tags": []
          },
          "execution_count": 18
        },
        {
          "output_type": "display_data",
          "data": {
            "image/png": "[encoded data removed]",
            "text/plain": [
              "<Figure size 432x288 with 1 Axes>"
            ]
          },
          "metadata": {
            "tags": [],
            "needs_background": "light"
          }
        }
      ]
    },
    {
      "cell_type": "code",
      "metadata": {
        "colab": {
          "base_uri": "https://localhost:8080/",
          "height": 295
        },
        "id": "9tMwYkukWiZN",
        "outputId": "de1cb55a-c5bf-48f4-d066-422b84057317"
      },
      "source": [
        "iters = np.arange(max_iters)\n",
        "plt.plot(iters,err,'green')\n",
        "plt.title(\"Error graph for training data\")\n",
        "plt.xlabel(\"iteration count\")\n",
        "plt.ylabel(\"error\")\n",
        "plt.grid()"
      ],
      "execution_count": 19,
      "outputs": [
        {
          "output_type": "display_data",
          "data": {
            "image/png": "[encoded data removed]",
            "text/plain": [
              "<Figure size 432x288 with 1 Axes>"
            ]
          },
          "metadata": {
            "tags": [],
            "needs_background": "light"
          }
        }
      ]
    },
    {
      "cell_type": "markdown",
      "metadata": {
        "id": "Ct4A871CDmsy"
      },
      "source": [
        "Test data"
      ]
    },
    {
      "cell_type": "code",
      "metadata": {
        "colab": {
          "base_uri": "https://localhost:8080/"
        },
        "id": "-XdjD8VHXRmn",
        "outputId": "33f7ccf9-6575-4d6f-fdf5-b293f136f6d3"
      },
      "source": [
        "test_data_pred = m *test_data['X'] + c\n",
        "mse2 = mean_squared_error(test_data['Y'],test_data_pred)\n",
        "print(\"Mean Square Error(MSE) of testing data : \",mse)\n",
        "print(\"Root Mean Square Error(RMSE) testing data:\",mse**0.5)"
      ],
      "execution_count": 20,
      "outputs": [
        {
          "output_type": "stream",
          "text": [
            "Mean Square Error(MSE) of testing data :  0.08716578016293013\n",
            "Root Mean Square Error(RMSE) testing data: 0.29523851402371293\n"
          ],
          "name": "stdout"
        }
      ]
    },
    {
      "cell_type": "code",
      "metadata": {
        "colab": {
          "base_uri": "https://localhost:8080/",
          "height": 265
        },
        "id": "3s11K59MXgDz",
        "outputId": "9bb921b0-5ebd-4b5f-e742-612ac9dcc2b4"
      },
      "source": [
        "plt.scatter(test_data['X'],test_data['Y'],color='red')\n",
        "plt.plot(test_data['X'],test_data_pred,'blue')\n",
        "plt.grid()"
      ],
      "execution_count": 21,
      "outputs": [
        {
          "output_type": "display_data",
          "data": {
            "image/png": "[encoded data removed]",
            "text/plain": [
              "<Figure size 432x288 with 1 Axes>"
            ]
          },
          "metadata": {
            "tags": [],
            "needs_background": "light"
          }
        }
      ]
    },
    {
      "cell_type": "markdown",
      "metadata": {
        "id": "V4YZ064eYVV0"
      },
      "source": [
        "**Output** **Prediction**"
      ]
    },
    {
      "cell_type": "code",
      "metadata": {
        "colab": {
          "base_uri": "https://localhost:8080/"
        },
        "id": "G4CD4Uo2YJP9",
        "outputId": "0a2c818b-eb72-4a11-c718-6041243c3924"
      },
      "source": [
        "x_min = df['X'].min()\n",
        "x_max = df['X'].max()\n",
        "y_min = df['Y'].min()\n",
        "y_max = df['Y'].max()\n",
        "x = float(input(\"enter pressure of liquid nitrogen value :\"))\n",
        "x1=x\n",
        "x = (x - x_min)/(x_max - x_min)\n",
        "y = m*x + c\n",
        "y = y*(y_max - y_min) + y_min\n",
        "print(f\"weight of liquid nitrogen based on its pressure {x1} is : {y}\")"
      ],
      "execution_count": 22,
      "outputs": [
        {
          "output_type": "stream",
          "text": [
            "enter pressure of liquid nitrogen value :74.3\n",
            "weight of liquid nitrogen based on its pressure 74.3 is : 557.686491349481\n"
          ],
          "name": "stdout"
        }
      ]
    }
  ]
}