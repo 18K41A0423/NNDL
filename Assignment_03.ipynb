{
  "nbformat": 4,
  "nbformat_minor": 0,
  "metadata": {
    "colab": {
      "name": "Assignment 03.ipynb",
      "provenance": [],
      "collapsed_sections": []
    },
    "kernelspec": {
      "name": "python3",
      "display_name": "Python 3"
    },
    "language_info": {
      "name": "python"
    }
  },
  "cells": [
    {
      "cell_type": "code",
      "metadata": {
        "colab": {
          "base_uri": "https://localhost:8080/"
        },
        "id": "DcetkC6SRD-m",
        "outputId": "588bff05-3a55-4a01-e74e-ff821adaea34"
      },
      "source": [
        "#Initialise values\n",
        "x=[0.2,0.4,0.6,0.8]\n",
        "y=[3.4,3.8,4.2,4.6]\n",
        "m=1\n",
        "c=-1\n",
        "ns=len(x)#total samples\n",
        "eta=0.1 #Learning rate\n",
        "max_iters=100 #Maximum iterations\n",
        "def derivative(m,c,x,y):\n",
        "  x_derivative=(-1.0)*(y-m*x-c)*x\n",
        "  y_derivative=(-1.0)*(y-m*x-c)\n",
        "  return x_derivative,y_derivative\n",
        "for i in range(max_iters):\n",
        "  for j in range(ns):\n",
        "    m1=m\n",
        "    c1=c\n",
        "    #find change in x , y\n",
        "    dm,dc=derivative(m1,c1,x[j],y[j])\n",
        "    dm=(-1.0)*eta*dm\n",
        "    dc=(-1.0)*eta*dc\n",
        "    #update variable \n",
        "    m = m + dm#Gradiant descent\n",
        "    m = round(m, 2) #Gradiant descent\n",
        "    c = c + dc\n",
        "    c = round(c, 2)\n",
        "print(\"The local minimum occurs at m = %.2f\"%(m),\", c = %.2f\"%(c))"
      ],
      "execution_count": null,
      "outputs": [
        {
          "output_type": "stream",
          "text": [
            "The local minimum occurs at m = 2.26 , c = 2.84\n"
          ],
          "name": "stdout"
        }
      ]
    },
    {
      "cell_type": "code",
      "metadata": {
        "colab": {
          "base_uri": "https://localhost:8080/",
          "height": 295
        },
        "id": "5dcLqh1yU2_7",
        "outputId": "02b4f1b1-f573-4083-f4e0-ec5b49524e2c"
      },
      "source": [
        "import matplotlib.pyplot as plt\n",
        "import numpy as np\n",
        "x1=np.linspace(-5,5,100)\n",
        "y1=m*x1+c\n",
        "plt.plot(x1,y1,'-r',label='y='+str(m)+'x+'+str(c))\n",
        "plt.title('Graph of '+'y='+str(m)+'x+'+str(c))\n",
        "plt.xlabel('x')\n",
        "plt.ylabel('y')\n",
        "plt.legend(loc='upper left')\n",
        "plt.grid()\n",
        "plt.show()"
      ],
      "execution_count": null,
      "outputs": [
        {
          "output_type": "display_data",
          "data": {
            "image/png": "[encoded data removed]",
            "text/plain": [
              "<Figure size 432x288 with 1 Axes>"
            ]
          },
          "metadata": {
            "tags": [],
            "needs_background": "light"
          }
        }
      ]
    },
    {
      "cell_type": "code",
      "metadata": {
        "colab": {
          "base_uri": "https://localhost:8080/"
        },
        "id": "u44Rw2ExU__G",
        "outputId": "e10c6c30-f022-4400-9337-2f27944519c0"
      },
      "source": [
        "data_predicted = []\n",
        "for i in x:\n",
        "    data_predicted.append(m*i+c)\n",
        "from sklearn.metrics import mean_squared_error\n",
        "mse = mean_squared_error(y,data_predicted)\n",
        "print(\"Mean Square Error (MSE) : \",mse)\n",
        "print(\"Root mean square error (RMSE):\",mse**0.5)"
      ],
      "execution_count": null,
      "outputs": [
        {
          "output_type": "stream",
          "text": [
            "Mean Square Error (MSE) :  0.004280000000000009\n",
            "Root mean square error (RMSE): 0.06542170893518456\n"
          ],
          "name": "stdout"
        }
      ]
    }
  ]
}