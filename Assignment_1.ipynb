{
  "nbformat": 4,
  "nbformat_minor": 0,
  "metadata": {
    "colab": {
      "name": "Assignment-1.ipynb",
      "provenance": []
    },
    "kernelspec": {
      "name": "python3",
      "display_name": "Python 3"
    }
  },
  "cells": [
    {
      "cell_type": "markdown",
      "metadata": {
        "id": "h1LAfdE6HvSU"
      },
      "source": [
        "Find the global minimum point and value for the function f(x)= x^4 + 3x^2 +10. Do manual calculations for two iterations. Find the optimal solution using python programming."
      ]
    },
    {
      "cell_type": "code",
      "metadata": {
        "id": "g8ouVtEUPaNw",
        "colab": {
          "base_uri": "https://localhost:8080/"
        },
        "outputId": "3d2c6ab2-c52e-40b7-a87d-188af1e11131"
      },
      "source": [
        "#GRADIENT DESCENT ALGORITHM\r\n",
        "#Intializing of parameters\r\n",
        "import random\r\n",
        "x=random.randint(0,11)#The algorithm starts here\r\n",
        "#x=int(input())\r\n",
        "print(x)\r\n",
        "n=0.001 #Learning rate\r\n",
        "max_iters=1000 #Maximum iterations\r\n",
        "#Given Function\r\n",
        "f=(x**4)+(3*(x**2))+10\r\n",
        "#Function to find derivative\r\n",
        "def derivative(x1):\r\n",
        "  x_derivative=(4*(x**3))+(6*x)\r\n",
        "  return x_derivative\r\n",
        "for i in range(max_iters):\r\n",
        "  f1=derivative(x)\r\n",
        "  step=-(n)*f1\r\n",
        "  x=x+step#Grad Descent\r\n",
        "print('The Global minimum occurs at',x)\r\n",
        "print('The value of f(x) at Global minimum=',(x**4)+(3*(x**2))+10)"
      ],
      "execution_count": 8,
      "outputs": [
        {
          "output_type": "stream",
          "text": [
            "4\n",
            "The Global minimum occurs at 0.0028186973902754246\n",
            "The value of f(x) at Global minimum= 10.000023835228058\n"
          ],
          "name": "stdout"
        }
      ]
    }
  ]
}